{
 "cells": [
  {
   "cell_type": "code",
   "execution_count": 4,
   "id": "15e58e58-fbb2-43a3-87d2-debeb9fa5453",
   "metadata": {},
   "outputs": [
    {
     "name": "stdout",
     "output_type": "stream",
     "text": [
      "3.9.5 (default, May 18 2021, 12:31:01) \n",
      "[Clang 10.0.0 ]\n",
      "The autoreload extension is already loaded. To reload it, use:\n",
      "  %reload_ext autoreload\n",
      "Pretty printing has been turned ON\n"
     ]
    }
   ],
   "source": [
    "# Check if python is 3.9.5\n",
    "import os\n",
    "import sys\n",
    "\n",
    "from __init__ import PCAT\n",
    "\n",
    "print(sys.version)\n",
    "%load_ext autoreload\n",
    "%autoreload 2\n",
    "%pprint"
   ]
  },
  {
   "cell_type": "markdown",
   "id": "5ba8c349-18ee-4700-95e8-1e5be7b96ed2",
   "metadata": {},
   "source": [
    "# Physics-informed neural network land surface models"
   ]
  },
  {
   "cell_type": "code",
   "execution_count": null,
   "id": "e9fc916e-8b31-4315-a8c5-f6236b372440",
   "metadata": {},
   "outputs": [],
   "source": []
  }
 ],
 "metadata": {
  "kernelspec": {
   "display_name": "Python 3",
   "language": "python",
   "name": "python3"
  },
  "language_info": {
   "codemirror_mode": {
    "name": "ipython",
    "version": 3
   },
   "file_extension": ".py",
   "mimetype": "text/x-python",
   "name": "python",
   "nbconvert_exporter": "python",
   "pygments_lexer": "ipython3",
   "version": "3.9.5"
  }
 },
 "nbformat": 4,
 "nbformat_minor": 5
}
