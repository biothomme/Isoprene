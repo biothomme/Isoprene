{
 "cells": [
  {
   "cell_type": "code",
   "execution_count": 1,
   "id": "086e6d1a-2da3-492c-8c84-d66057b0043c",
   "metadata": {},
   "outputs": [
    {
     "name": "stdout",
     "output_type": "stream",
     "text": [
      "3.9.5 (default, May 18 2021, 12:31:01) \n",
      "[Clang 10.0.0 ]\n",
      "Pretty printing has been turned OFF\n"
     ]
    }
   ],
   "source": [
    "# Check if python is 3.9.5\n",
    "import numpy as np\n",
    "import os\n",
    "import sys\n",
    "\n",
    "from __init__ import PCAT\n",
    "\n",
    "print(sys.version)\n",
    "%load_ext autoreload\n",
    "%autoreload 2\n",
    "%pprint"
   ]
  },
  {
   "cell_type": "markdown",
   "id": "cf0ed905-2fd2-4481-8e0e-0604b83ab943",
   "metadata": {},
   "source": [
    "# Classifying the diversity of Land Surface (Sub)Models"
   ]
  },
  {
   "cell_type": "markdown",
   "id": "610e1d07-ecee-46b3-9308-363f16a50a69",
   "metadata": {},
   "source": [
    "Here, we try to explore and rank LSM for the help on deciding, which model to take. The criteria for it are listed in the notebook [02_submodel_criteria](./02_submodel_criteria.ipynb)."
   ]
  },
  {
   "cell_type": "markdown",
   "id": "4494767d-5191-4fdd-b4f4-76802f8ab703",
   "metadata": {},
   "source": [
    "## Structure"
   ]
  },
  {
   "cell_type": "markdown",
   "id": "6512b778-1f14-4ce1-9ed3-92da03326458",
   "metadata": {},
   "source": [
    "For each model we should have a (very) short paragraph that describes the submodel. In addition rankings for all 7 criteria, as well as some reasoning for it should be provided. For each submodel we can then define a python dictionary and cncatenate all of them finally to save it as `csv` or `yaml` file."
   ]
  },
  {
   "cell_type": "code",
   "execution_count": null,
   "id": "a9187abf-d694-401d-85ff-6f2d4ec97a92",
   "metadata": {},
   "outputs": [],
   "source": [
    "all_models_ranked = []"
   ]
  },
  {
   "cell_type": "code",
   "execution_count": null,
   "id": "e943c23e-d14a-41f9-8791-7ec36b7ea32d",
   "metadata": {},
   "outputs": [],
   "source": [
    "example_model = {\n",
    "    \"name\": \"example\",\n",
    "    \"reference\": \"link\",\n",
    "    \"c1\": (1, \"reasoning\"),\n",
    "    \"c2\": (2, \"reasoning\"),\n",
    "    \"c3\": (3, \"reasoning\"),\n",
    "    \"c4\": (3, \"reasoning\"),\n",
    "    \"c5\": (2, \"reasoning\"),\n",
    "    \"c6\": (1, \"reasoning\"),\n",
    "    \"c7\": (1, \"reasoning\")\n",
    "}\n",
    "\n",
    "all_models_ranked.append(example_model)"
   ]
  },
  {
   "cell_type": "markdown",
   "id": "1038d37b-8204-434a-9b95-ad7f450ae324",
   "metadata": {},
   "source": [
    "---\n",
    "## Models"
   ]
  },
  {
   "cell_type": "markdown",
   "id": "e8f6e615-7eab-4f51-97cf-44e4925626f8",
   "metadata": {},
   "source": [
    "Let us start."
   ]
  },
  {
   "cell_type": "markdown",
   "id": "5a279c9d-4b08-4a1e-8d39-300140dc5a9f",
   "metadata": {},
   "source": [
    "### CLM Submodels"
   ]
  },
  {
   "cell_type": "markdown",
   "id": "01096e94-8a90-4c7a-ab0d-e26077f044ed",
   "metadata": {},
   "source": [
    "We start with looking at the submodels of the CLM. Its [Technical Note](https://escomp.github.io/ctsm-docs/versions/master/html/tech_note/index.html) lists 30 submodules/submodels. These should be analyzed. To avoid a bias of ranking the models in a given order, we fetch them randomly:"
   ]
  },
  {
   "cell_type": "raw",
   "id": "8f15f39e-0c7f-4506-9d7a-8093bd5f0182",
   "metadata": {},
   "source": [
    "# the indices go from 2 to 31\n",
    "indices = list(range(2, 31))\n",
    "\n",
    "# we shuffle randomly\n",
    "np.random.shuffle(indices)\n",
    "print(indices)"
   ]
  },
  {
   "cell_type": "raw",
   "id": "03c05f74-bedc-4de3-bfad-252766556270",
   "metadata": {},
   "source": [
    "[22, 5, 17, 21, 25, 24, 9, 6, 15, 30, 10, 28, 12, 18, 19, 8, 27, 11, 3, 29, 16, 2, 23, 13, 20, 7, 26, 4, 14]"
   ]
  },
  {
   "cell_type": "markdown",
   "id": "b005628f-9ae0-419e-b69e-552022f09235",
   "metadata": {},
   "source": [
    "#### 22. External Nitrogen Cycle"
   ]
  },
  {
   "cell_type": "code",
   "execution_count": 13,
   "id": "51e34836-2ed8-4fcd-a5f2-559e56ba3aee",
   "metadata": {},
   "outputs": [
    {
     "data": {
      "text/plain": [
       "Ellipsis"
      ]
     },
     "execution_count": 13,
     "metadata": {},
     "output_type": "execute_result"
    }
   ],
   "source": [
    "..."
   ]
  },
  {
   "cell_type": "code",
   "execution_count": null,
   "id": "e1ef9567-ddfe-4201-b0aa-b422be2297d4",
   "metadata": {},
   "outputs": [],
   "source": []
  }
 ],
 "metadata": {
  "kernelspec": {
   "display_name": "Python 3",
   "language": "python",
   "name": "python3"
  },
  "language_info": {
   "codemirror_mode": {
    "name": "ipython",
    "version": 3
   },
   "file_extension": ".py",
   "mimetype": "text/x-python",
   "name": "python",
   "nbconvert_exporter": "python",
   "pygments_lexer": "ipython3",
   "version": "3.9.5"
  }
 },
 "nbformat": 4,
 "nbformat_minor": 5
}
