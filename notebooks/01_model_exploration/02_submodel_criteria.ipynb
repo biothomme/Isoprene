{
 "cells": [
  {
   "cell_type": "code",
   "execution_count": 1,
   "id": "56c56941-c5d4-48d4-a9e3-6ce1b61c0d89",
   "metadata": {},
   "outputs": [
    {
     "name": "stdout",
     "output_type": "stream",
     "text": [
      "3.9.5 (default, May 18 2021, 12:31:01) \n",
      "[Clang 10.0.0 ]\n",
      "Pretty printing has been turned OFF\n"
     ]
    }
   ],
   "source": [
    "# Check if python is 3.9.5\n",
    "import os\n",
    "import sys\n",
    "\n",
    "from __init__ import PCAT\n",
    "\n",
    "print(sys.version)\n",
    "%load_ext autoreload\n",
    "%autoreload 2\n",
    "%pprint"
   ]
  },
  {
   "cell_type": "markdown",
   "id": "f05ae57d-e381-4a2c-badf-5b66cdcfb4a9",
   "metadata": {},
   "source": [
    "# How to rank the land surface models?"
   ]
  },
  {
   "cell_type": "markdown",
   "id": "70b12653-5e68-42cc-9e1c-50e82086c85d",
   "metadata": {},
   "source": [
    "As discussed in [the first meeting](../../docs/reporting/01_meetings_documentation.md#M01) we aim an informed decision on the model that we want to reconstruct using PINNs. Therefore, we need a criteria and a ranking scheme."
   ]
  },
  {
   "cell_type": "markdown",
   "id": "00c5502d-283f-4f64-a298-f51bf47614d2",
   "metadata": {},
   "source": [
    "Therefore, we will build a decision matrix. More about decsion taking can be found in *Peterson (2017)*."
   ]
  },
  {
   "cell_type": "markdown",
   "id": "303fe3f0-644f-431e-862d-ce93147470b8",
   "metadata": {},
   "source": [
    "## Criteria to rank models\n",
    "David and Björn proposed 5 criteria. After some thinking I would split the \"Ease of access\"-criterion into two: \"Ease of implementation\" and \"Magnitude of independence\". The latter should help ranking submodels regarding how much they depend on other submodels. In regard of my study subject and to the pleasure of Leo & co., connection of biological evolution will also be considered. Thus, we have:\n",
    "1) [Importance for policy making](#p01)\n",
    "2) [Importance for forest restoration](#p02)\n",
    "3) [Magnitude of computational bottleneck / efficiancy](#p03)\n",
    "4) [Magnitude of computational bottleneck / accuracy in parametrization](#p04)\n",
    "5) [Ease of implementation](#p05)\n",
    "6) [Magnitude of independence](#p06)\n",
    "7) [Magnitude of evolutionary relevance ](#p07)"
   ]
  },
  {
   "cell_type": "markdown",
   "id": "d5d10dab-dadb-427d-863b-05e6e335411b",
   "metadata": {},
   "source": [
    "## Scales\n",
    "For simplicity and the comparability between criteria we apply an ordinal scale from 1 to 3 for all of them. Hence, 3 is the highest magnitude of each criterion, 1 the lowest."
   ]
  },
  {
   "cell_type": "markdown",
   "id": "25064acd-bf1b-4d14-a08d-ac6b31b40cdd",
   "metadata": {},
   "source": [
    "---\n",
    "## Specific approaches\n",
    "### 1. Importance for policy making <a id=\"p01\"></a>"
   ]
  },
  {
   "cell_type": "markdown",
   "id": "8ac57d94-6727-4cbe-b9e2-32b974d61642",
   "metadata": {},
   "source": [
    "To judge the importance for policy making, I try to think about the model and how following the concept of planetary boundaries (Rockström, et al., 2009, Steffen, et al., 2015). The main boundaries are:\n",
    "- Climate change (increase of atmospheric CO$_2$ concentration)\n",
    "- Change in biosphere integrity (loss of functional and genetic diversity; i.e. extinction; i.e. biodiversity decrease)\n",
    "- Stratospheric ozone depletion (decrease of strat. O$_3$)\n",
    "- Ocean acidification (increase of concentration  of carbonate ions)\n",
    "- Biogeochemical flows (phosphorous and nitrogen input from industrial and agricultural use to soils and ocean)\n",
    "- Land-system change (decrease in area of forested land as % of potential forest)\n",
    "- Freshwater use (amount of blue water/freshwater use/withdrawal)\n",
    "- Atmospheric aerosol loading (increase of optical detectable aerosols)\n",
    "- Introduction of novel entities (increase in chemical pollution)\n",
    "\n",
    "\n",
    "Thus, we assign to submodels:\n",
    "- 3 if directly deal with such a planetary boundary\n",
    "- 2 if are connected with many other submodels that deal with planetary boundaries\n",
    "- 1 if no close connection to planetary boundaries"
   ]
  },
  {
   "cell_type": "markdown",
   "id": "08e3b742-09c8-4103-b950-b6de69e8b4e0",
   "metadata": {},
   "source": [
    "### 2. Importance for forest restoration <a id=\"p02\"></a>"
   ]
  },
  {
   "cell_type": "markdown",
   "id": "8d612397-6138-4a67-9f1f-d9fe9c487dc8",
   "metadata": {},
   "source": [
    "Regarding the relevance of a submodel to forest restoration, we take a more simple approach. Also, it is kind of a subcategory of [criterion 1](#p01). We assign to submodels:\n",
    "- 3 if directly dealing with trees or forests.\n",
    "- 2 if increased knowledge of models' subject could support forest restoration.\n",
    "- 1 if the models' subject does not strongly influence trees and forests."
   ]
  },
  {
   "cell_type": "markdown",
   "id": "14a14ecc-ac1f-41da-b102-f48c66e1982a",
   "metadata": {},
   "source": [
    "### 3. Magnitude of computational bottleneck / efficiancy <a id=\"p03\"></a>"
   ]
  },
  {
   "cell_type": "markdown",
   "id": "8b164acc-3d12-4c21-9056-c3c95c3583b9",
   "metadata": {},
   "source": [
    "This criterion is pretty hard for me to classify right know. I would assign for a submodel:\n",
    "- 3 if highly complex\n",
    "- 2 if the model is complex, but still not exaggerated.\n",
    "- 1 if it has a very simple structure, linear equations or even only parameters\n",
    "\n",
    "Furthermore, I think it is more important to list the bottleneck of each model. Therefore, I can use the references that use it; or the publication on it."
   ]
  },
  {
   "cell_type": "markdown",
   "id": "bdfd2cf9-9ad3-4e0b-9768-0022579bea59",
   "metadata": {},
   "source": [
    "### 4. Magnitude of computational bottleneck / accuracy in parametrization <a id=\"p04\"></a>"
   ]
  },
  {
   "cell_type": "markdown",
   "id": "93cc6239-7232-4c96-9c1e-f7ced2a927ee",
   "metadata": {},
   "source": [
    "Here again, my knowledge is a bottleneck itself. But I would simply assign for a submodel:\n",
    "- 3 if many parameters are invovled and linked in complex relations\n",
    "- 2 if may parameters are involved but linearly connected, or few parameters with complex relations\n",
    "- 1 if only few aprameters are involved and if so, in a linear way\n",
    "\n",
    "As for [criterion 3](#p03), it is more important to denote the equations of the model, which reflect the bottleneck and investigate them using literature."
   ]
  },
  {
   "cell_type": "markdown",
   "id": "19dc310f-8fb5-4912-910e-862a47a8b81a",
   "metadata": {},
   "source": [
    "### 5. Ease of implementation <a id=\"p05\"></a>"
   ]
  },
  {
   "cell_type": "markdown",
   "id": "aee34743-ac53-4417-a8b9-7d8b395aae27",
   "metadata": {},
   "source": [
    "This criterion judges how simple it would be to implement the model. Here, we do not consider the number of parameters or equations, but rather, if the documentation fot he model allows a re-implementation (if original coding language cannot be used), or reuse of the original model implementation. Thus, submodels are ranked:\n",
    "- 3 if re-implemantation following the documentation/reference/code is clear or model is reusable\n",
    "- 2 if multiple different references/ressources/documentations would need to be combined\n",
    "- 1 if intransperency is the models read thread"
   ]
  },
  {
   "cell_type": "markdown",
   "id": "f807e6fe-fa9c-42a8-8874-c299c90207b3",
   "metadata": {},
   "source": [
    "### 6. Magnitude of independence <a id=\"p06\"></a>"
   ]
  },
  {
   "cell_type": "markdown",
   "id": "7d470c6b-6fc3-4bbd-9dcc-1db1528b87c7",
   "metadata": {},
   "source": [
    "Because some submodels are important for the full LSM, but not useful as a *stand-alone*, we classify submodels with:\n",
    "- 3 if it can be used as its own independent model\n",
    "- 2 if connection to some other submodels is required\n",
    "- 1 if it is useless without other submodels"
   ]
  },
  {
   "cell_type": "markdown",
   "id": "73d42bef-dab9-4ccc-8293-f6f944768ee3",
   "metadata": {},
   "source": [
    "### 7. Magnitude of evolutionary relevance <a id=\"p07\"></a>"
   ]
  },
  {
   "cell_type": "markdown",
   "id": "bf3fb44f-dcbf-489d-8eaf-2438d376d3d6",
   "metadata": {},
   "source": [
    "This criterion is added, as everything makes sense in the light of evolution. So, I hope I do not only add study requirements, but also sense to the decision matrix by it. Regarding the relevance of evolution in a submodel, we assign to submodels:\n",
    "\n",
    "- 3 if directly dealing with living organisms or ecosystems, that evolve\n",
    "- 2 if models' subject involves important factor that force evolution\n",
    "- 1 if the models' subject does not strongly influence biological evolution (incl. ecosystem evolution)"
   ]
  },
  {
   "cell_type": "markdown",
   "id": "8ffac209-ddaa-4093-907d-493767c56307",
   "metadata": {},
   "source": [
    "---\n",
    "# References\n",
    "\n",
    "Peterson M. 2017. An Introduction to Decision Theory: Cambridge University Press.\n",
    "\n",
    "Rockström J, Steffen W, Noone K, Persson Å, Chapin FS, Lambin E, Lenton TM, Scheffer M, Folke C, Schellnhuber HJ, et al. 2009. Planetary Boundaries: Exploring the Safe Operating Space for Humanity. Ecology and Society 14.\n",
    "\n",
    "Steffen W, Richardson K, Rockström J, Cornell SE, Fetzer I, Bennett EM, Biggs R, Carpenter SR, de Vries W, de Wit CA, et al. 2015. Planetary boundaries: Guiding human development on a changing planet. Science 347: 1259855.\n",
    "\n"
   ]
  }
 ],
 "metadata": {
  "kernelspec": {
   "display_name": "Python 3",
   "language": "python",
   "name": "python3"
  },
  "language_info": {
   "codemirror_mode": {
    "name": "ipython",
    "version": 3
   },
   "file_extension": ".py",
   "mimetype": "text/x-python",
   "name": "python",
   "nbconvert_exporter": "python",
   "pygments_lexer": "ipython3",
   "version": "3.9.5"
  }
 },
 "nbformat": 4,
 "nbformat_minor": 5
}
