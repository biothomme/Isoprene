{
 "cells": [
  {
   "cell_type": "code",
   "execution_count": null,
   "id": "7376fa87-d385-474c-88a8-15ed5482df9e",
   "metadata": {},
   "outputs": [],
   "source": [
    "# Check if python is 3.9.5\n",
    "import arrow\n",
    "import numpy as np\n",
    "import os\n",
    "import sys\n",
    "\n",
    "from __init__ import PCAT\n",
    "\n",
    "print(sys.version)\n",
    "%load_ext autoreload\n",
    "%autoreload 2\n",
    "%pprint"
   ]
  },
  {
   "cell_type": "markdown",
   "id": "ae6b78b9-4b1e-4096-b301-03da61d4a13d",
   "metadata": {},
   "source": [
    "# Machine learning approaches in LSM and more..."
   ]
  },
  {
   "cell_type": "markdown",
   "id": "5f655f9d-c4a8-4c39-a287-32c3980643ac",
   "metadata": {},
   "source": [
    "As [we decided](../../docs/reporting/01_meetings_documentation.md#M04) to focus more on gross primary production (GPP) models, we can now dig deeper into methods of machine/deep learning that people use in LSM. As motivation on working out deeper knowledge one carbon fluxes, one can find many arguments in [Baldocchi (2020)](#baldocchiHowEddyCovariance2020)"
   ]
  },
  {
   "cell_type": "markdown",
   "id": "0fcb46fc-1880-418d-9485-300b44ac7639",
   "metadata": {},
   "source": [
    "## Predicting GPP combining remote sensing and flux towers"
   ]
  },
  {
   "cell_type": "markdown",
   "id": "6c9e4555-be9e-422d-aa4f-4e841b7188fd",
   "metadata": {},
   "source": [
    "[Flux towers](https://www.neonscience.org/data-collection/flux-tower-measurements) are installations that measure concentations of $CO_2$, $H_2O$ vapor and other properties, as well as momentum (wind) of the surface near atmosphere. These data can be used for estimating the carbon/vapor flux using [Eddy covariance technique](https://en.wikipedia.org/wiki/Eddy_covariance). In short, this is a method to model turbulent flows in atmosphere boundary layers. As plants do not do photosynthesis during the night, comparison between diurnal/nocturnal fluxes can be used to obtain GPP estimates."
   ]
  },
  {
   "cell_type": "markdown",
   "id": "e398f092-a64e-47e9-849a-621133c410f7",
   "metadata": {},
   "source": [
    "A recent paper ([Yu, et al., 2021](#yuComparisonMachineLearning2021)) utilizes different machine learning methods to predict large scale GPP patterns from remote sensisng and flux tower data."
   ]
  },
  {
   "cell_type": "markdown",
   "id": "1174d1f5-145d-4ddc-899b-26f4091e0c95",
   "metadata": {},
   "source": [
    "1) Data used for study area in NW China:\n",
    "- Land surface reflectance ([MODIS](https://modis.gsfc.nasa.gov/))\n",
    "- Land cover classification\n",
    "- Meteorological data (MODIS)\n",
    "- Flux tower data ([HiWATER](https://heihedata.org/en/data/12067d2e-1e9a-4d9a-8a79-1b6c36092001/))\n",
    "\n",
    "2) Machine learning approaches for prediction (from previously published papers)\n",
    "- Cubist regression tree CR\n",
    "- Random forest regression RF\n",
    "- Support vector machine SVM\n",
    "- Artificial neural network (from [FLUXCOM](http://www.fluxcom.org/)) ANN\n",
    "- Deep belief network DBN\n",
    "\n",
    "3) For validation MODIS GPP predictions\n",
    "\n",
    "4) MODIS GPP was lower than ML-upscaled GPP, still consistent spatial patterns\n",
    "- highest accuracy using RF\n",
    "\n",
    "5) Normalized difference vegetation index (inferred form land surface reflectance) is most sensitive variable"
   ]
  },
  {
   "cell_type": "markdown",
   "id": "30f88c20-0779-4943-976f-8e53f15302ce",
   "metadata": {},
   "source": [
    "**What could we learn?**\n",
    "\n",
    "ML approaches could supplement GPP estimation for areas without flux measure stations."
   ]
  },
  {
   "cell_type": "markdown",
   "id": "6c6fadbe-0617-41a5-a329-b72823fe14b3",
   "metadata": {},
   "source": [
    "## Constraining uncertainty of models using ML <a id=\"paper2\"></a> "
   ]
  },
  {
   "cell_type": "markdown",
   "id": "9e37c184-736d-48b4-8815-f6dc19cbe45b",
   "metadata": {},
   "source": [
    "In the article by [Schlund, et al. (2020)](#schlundConstrainingUncertaintyProjected2020), uncertainty in GPP prediction is restricted using a combination of temporal intermodel comparisons with large grid machine learning predictions. \n",
    "\n",
    "I imagine this approach like that:\n",
    "Core of the paper are the global carbon feedback processes, that are hard to explicitly describe: $CO_2$ fertilization and climate-carbon feedback. But as these processes are important, we need to account for them. E.g. $CO_2$ fertilization can be measured on a backward perspective. For modeling forward in time, their dynamics can be used to constrain the predictions. As it still depends on elaborated measurement sites, which are globally scarse, upscaling of the constraining mechanism can be difficult. Therefore, the authors train a ML model. Easy as that ...\n",
    "\n",
    "1) Step 1:\n",
    "- (a) Global mean GPP change over the 21st century is calculated using model comparison between simulations from 1991-2000 and 2091-2100 (emissions predicted from RCP 8.5 scenario). (b) $CO_2$ amplitude sensitivity is estimated from measurements on [Hawaii](https://scrippso2.ucsd.edu/data/kum.html).\n",
    "- Earth surface model outputs are rescaled using the ratio between (b) constrained and predicted GPP change (a).\n",
    "2) Step 2 - Gradient boosted regression trees (GBRT):\n",
    "- a multivariate regression model is aimed to be optimized\n",
    "- first training with recaled absolute model outputs (2091-2100)\n",
    "- second training with the rescaled fractional model outputs (between-century change)\n",
    "- Predictors: GPP, LAI, precipitation, Near surface temperature, downdwelling of solar radiation at surface.\n",
    "3) Cross-validation with leave‐one‐model‐out approach\n",
    "4) Successful in emulation and consistent between approaches\n",
    "5) Especially in higher latitudes the fractional GPP change is high - WHY? Here one could think of non-photochemical quenching ([Wang, et al., 2022](#wangModelingGlobalCarbon2022a))\n",
    "6) Authors discuss that other processes but $CO_2$ fertilization may also be important; but regarding seasonal cycles, it is a big driver."
   ]
  },
  {
   "cell_type": "markdown",
   "id": "266be55c-8d5a-4b60-b6cc-da072b94c7f8",
   "metadata": {},
   "source": [
    "**What could we learn?**\n",
    "\n",
    "Two step approaches can help to combine data constraining and up-scaling by ML to account for processes that are difficult to measure."
   ]
  },
  {
   "cell_type": "markdown",
   "id": "799c739f-3ad3-4d6e-b09b-1835f9c991f6",
   "metadata": {},
   "source": [
    "## Emulating physical dynamics using Fourier Neural Operators"
   ]
  },
  {
   "cell_type": "markdown",
   "id": "5e0d429b-693e-4d9d-928c-45d9910b484a",
   "metadata": {},
   "source": [
    "Fourier neural operators (FNO) ([Li, et al., 2021](#liFourierNeuralOperator2021)) are NNs that allow emulation which is invariant to resolution in its training. This comes from their ability to learn mesh-independent.\n",
    "[Jiang, et al. (2021)](#jiangDigitalTwinEarth2021) prove the method for modeling flooding dynamics:\n",
    "1) Authors run a numerical flooding model\n",
    "2) FNO and UNet surrogates were built\n",
    "3) FNOs are overall better correlating with model output than UNets\n",
    "4) There are issues with the FNO approach in masked boundary regions\n",
    "\n",
    "**What could we learn?**\n",
    "\n",
    "FNOs could be amazing to build an emulator for LSMs. How would it be affected by categoric parameters like PFT classes?"
   ]
  },
  {
   "cell_type": "markdown",
   "id": "6fd9dc64-fb6d-4269-9395-1920dcf93951",
   "metadata": {},
   "source": [
    "---\n",
    "# References\n",
    "\n",
    "[**Baldocchi DD. 2020.**](https://doi.org/10.1111/gcb.14807) <a id=\"baldocchiHowEddyCovariance2020\"></a> How eddy covariance flux measurements have contributed to our understanding of Global Change Biology. Global Change Biology 26: 242–260.\n",
    "\n",
    "[**Jiang P, Meinert N, Jordão H, Weisser C, Holgate S, Lavin A, Lütjens B, Newman D, Wainwright H, Walker C, et al. 2021.**](https://doi.org/10.48550/arXiv.2110.07100) <a id=\"liFourierNeuralOperator2021\"></a> Digital Twin Earth -- Coasts: Developing a fast and physics-informed surrogate model for coastal floods via neural operators.\n",
    "\n",
    "\n",
    "[**Li Z, Kovachki N, Azizzadenesheli K, Liu B, Bhattacharya K, Stuart A, Anandkumar A. 2021.**](https://doi.org/10.48550/arXiv.2010.08895) <a id=\"jiangDigitalTwinEarth2021\"></a> Fourier Neural Operator for Parametric Partial Differential Equations.\n",
    "\n",
    "\n",
    "[**Schlund M, Eyring V, Camps-Valls G, Friedlingstein P, Gentine P, Reichstein M. 2020.**](https://doi.org/10.1029/2019JG005619) <a id=\"schlundConstrainingUncertaintyProjected2020\"></a>  Constraining Uncertainty in Projected Gross Primary Production With Machine Learning. Journal of Geophysical Research: Biogeosciences 125: e2019JG005619.\n",
    "\n",
    "\n",
    "[**Wang Y, Braghiere RK, Longo M, Norton A, Köhler P, Doughty R, Yin Y, Bloom AA, Frankenberg C. 2022.**](https://doi.org/10.1002/essoar.10509956.1) <a id=\"wangModelingGlobalCarbon2022a\"></a> Modeling global carbon and water fluxes and hyperspectral canopy radiative transfer simultaneously using a next generation land surface model—CliMA Land. Biological Sciences.\n",
    "\n",
    "\n",
    "[**Yu T, Zhang Q, Sun R. 2021.**](https://doi.org/10.3390/rs13132448) <a id=\"yuComparisonMachineLearning2021\"></a> Comparison of Machine Learning Methods to Up-Scale Gross Primary Production. Remote Sensing 13: 2448.\n"
   ]
  },
  {
   "cell_type": "code",
   "execution_count": null,
   "id": "7a79244a-98b6-4f0f-a7ab-1580b278c885",
   "metadata": {},
   "outputs": [],
   "source": []
  }
 ],
 "metadata": {
  "kernelspec": {
   "display_name": "Python 3 (ipykernel)",
   "language": "python",
   "name": "python3"
  },
  "language_info": {
   "codemirror_mode": {
    "name": "ipython",
    "version": 3
   },
   "file_extension": ".py",
   "mimetype": "text/x-python",
   "name": "python",
   "nbconvert_exporter": "python",
   "pygments_lexer": "ipython3",
   "version": "3.10.5"
  }
 },
 "nbformat": 4,
 "nbformat_minor": 5
}
