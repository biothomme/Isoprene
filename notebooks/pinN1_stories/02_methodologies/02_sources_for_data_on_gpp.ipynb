{
 "cells": [
  {
   "cell_type": "code",
   "execution_count": null,
   "id": "647300da-11d8-481b-8dae-d85f51bc6e3c",
   "metadata": {},
   "outputs": [],
   "source": [
    "# Check if python is 3.9.5\n",
    "import arrow\n",
    "import numpy as np\n",
    "import os\n",
    "import sys\n",
    "\n",
    "from __init__ import PCAT\n",
    "\n",
    "print(sys.version)\n",
    "%load_ext autoreload\n",
    "%autoreload 2\n",
    "%pprint"
   ]
  }
 ],
 "metadata": {
  "kernelspec": {
   "display_name": "Python 3",
   "language": "python",
   "name": "python3"
  },
  "language_info": {
   "codemirror_mode": {
    "name": "ipython",
    "version": 3
   },
   "file_extension": ".py",
   "mimetype": "text/x-python",
   "name": "python",
   "nbconvert_exporter": "python",
   "pygments_lexer": "ipython3",
   "version": "3.9.5"
  }
 },
 "nbformat": 4,
 "nbformat_minor": 5
}
