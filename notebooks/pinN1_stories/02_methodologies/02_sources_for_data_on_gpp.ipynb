{
 "cells": [
  {
   "cell_type": "code",
   "execution_count": null,
   "id": "647300da-11d8-481b-8dae-d85f51bc6e3c",
   "metadata": {},
   "outputs": [],
   "source": [
    "# Check if python is 3.9.5\n",
    "import arrow\n",
    "import numpy as np\n",
    "import os\n",
    "import sys\n",
    "\n",
    "from __init__ import PCAT\n",
    "\n",
    "print(sys.version)\n",
    "%load_ext autoreload\n",
    "%autoreload 2\n",
    "%pprint"
   ]
  },
  {
   "cell_type": "markdown",
   "id": "3ce8f7a1-7cb9-45f4-a796-cb5b61d3ec2e",
   "metadata": {},
   "source": [
    "# Which datasets can we use?"
   ]
  },
  {
   "cell_type": "markdown",
   "id": "32a46a90-b12e-4ac8-8168-136d7ab05f39",
   "metadata": {},
   "source": [
    "Here, we summarize datasets for the LSMs on GPP. [`GriddingMachine.jl`](https://github.com/CliMA/GriddingMachine.jl) lists [several datasets](https://github.com/CliMA/GriddingMachine.jl/issues/62) that could be of use."
   ]
  },
  {
   "cell_type": "markdown",
   "id": "40716a56-e4ac-49b0-8b3a-852fcd810b38",
   "metadata": {},
   "source": [
    "# Soil properties"
   ]
  },
  {
   "cell_type": "markdown",
   "id": "9f991033-bd44-4366-b4cc-451ab3886f8b",
   "metadata": {},
   "source": [
    "## Hydraulics and thermal properties"
   ]
  },
  {
   "cell_type": "markdown",
   "id": "95f251ee-5996-40ec-a2e5-9ba669fa903a",
   "metadata": {},
   "source": [
    "Global maps published by [Dai, et al. (2019)](daiGlobalHighResolutionData2019)."
   ]
  },
  {
   "cell_type": "markdown",
   "id": "d9f35b28-a82d-40ae-9e03-b2aa74945ce2",
   "metadata": {},
   "source": [
    "---\n",
    "# References"
   ]
  },
  {
   "cell_type": "markdown",
   "id": "eec9467f-bcce-4021-af9f-2148ad2e2435",
   "metadata": {},
   "source": [
    "[**Dai Y, Xin Q, Wei N, Zhang Y, Shangguan W, Yuan H, Zhang S, Liu S, Lu X. 2019.**](https://doi.org/10.1029/2019MS001784) <a id=\"daiGlobalHighResolutionData2019\"></a> A Global High-Resolution Data Set of Soil Hydraulic and Thermal Properties for Land Surface Modeling. Journal of Advances in Modeling Earth Systems 11: 2996–3023."
   ]
  },
  {
   "cell_type": "code",
   "execution_count": null,
   "id": "d7f20aa5-b956-4bd8-8212-db838145cee3",
   "metadata": {},
   "outputs": [],
   "source": []
  }
 ],
 "metadata": {
  "kernelspec": {
   "display_name": "Python 3",
   "language": "python",
   "name": "python3"
  },
  "language_info": {
   "codemirror_mode": {
    "name": "ipython",
    "version": 3
   },
   "file_extension": ".py",
   "mimetype": "text/x-python",
   "name": "python",
   "nbconvert_exporter": "python",
   "pygments_lexer": "ipython3",
   "version": "3.9.5"
  }
 },
 "nbformat": 4,
 "nbformat_minor": 5
}
