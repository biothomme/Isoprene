{
 "cells": [
  {
   "cell_type": "code",
   "execution_count": null,
   "id": "628e4e42-c506-474d-a8d2-664c07cbff94",
   "metadata": {},
   "outputs": [],
   "source": [
    "# Check if python is 3.9.5\n",
    "import arrow\n",
    "import numpy as np\n",
    "import os\n",
    "import sys\n",
    "\n",
    "from __init__ import PCAT\n",
    "\n",
    "print(sys.version)\n",
    "%load_ext autoreload\n",
    "%autoreload 2\n",
    "%pprint"
   ]
  },
  {
   "cell_type": "markdown",
   "id": "145288e4-b9f2-4775-89ae-56e2a13eba9e",
   "metadata": {},
   "source": [
    "# How much input can we get from other CliMA models?"
   ]
  },
  {
   "cell_type": "markdown",
   "id": "7f2e9935-ff87-4af1-856a-0bfd96a7dff6",
   "metadata": {},
   "source": [
    "## Macroecology of CliMA models"
   ]
  },
  {
   "cell_type": "markdown",
   "id": "bdee98ee-511d-4f73-bd4c-fd3d9c8a1542",
   "metadata": {},
   "source": [
    "Actually, the [CliMA](https://clima.caltech.edu/) models are designed in a way that allows to connect them all. There is a [blog entry](https://clima.caltech.edu/2022/02/09/toward-a-new-earth-system-model-clima-at-agu/) about it, but [this poster](https://clima.caltech.edu/files/2022/02/MackayAGU.pdf) explains it best:"
   ]
  },
  {
   "cell_type": "markdown",
   "id": "b650bffc-4c23-47e2-a52d-9894d85952c0",
   "metadata": {},
   "source": [
    "<details style=\"background-color:#eeeeee\">\n",
    "    <summary>Show poster:</summary>\n",
    "    <iframe src=\"https://clima.caltech.edu/files/2022/02/MackayAGU.pdf\" style=\"width:50%\">\n",
    "    </iframe>\n",
    "</details>"
   ]
  },
  {
   "cell_type": "markdown",
   "id": "91d6a94b-0ede-4ad7-ae6c-02105822b8cc",
   "metadata": {},
   "source": [
    "In short, [`ClimaCoupler.jl`](https://github.com/CliMA/ClimaCoupler.jl) is designed to do this mediation between different models. "
   ]
  },
  {
   "cell_type": "markdown",
   "id": "79146bc9-8bbd-46d2-824b-e965303fb97a",
   "metadata": {},
   "source": [
    "Another design choice of CliMA models is [`ClimaCore.jl`](https://github.com/CliMA/ClimaCore.jl), an interface that allows to felixible space discretizations and thus delivers a base for all models. [Here](https://agu2021fallmeeting-agu.ipostersessions.com/default.aspx?s=43-72-C2-E4-F0-E6-33-EE-F7-EC-3E-83-8D-5C-E8-63&guestview=true) is some more explanation:"
   ]
  },
  {
   "cell_type": "markdown",
   "id": "4ba39f37-7769-4050-9cc1-2db468a82473",
   "metadata": {},
   "source": [
    "<details style=\"background-color:#eeeeee\">\n",
    "    <summary>Show poster:</summary>\n",
    "    <iframe src=\"https://agu2021fallmeeting-agu.ipostersessions.com/default.aspx?s=43-72-C2-E4-F0-E6-33-EE-F7-EC-3E-83-8D-5C-E8-63&guestview=true\" style=\"width:50%\">\n",
    "    </iframe>\n",
    "</details>"
   ]
  },
  {
   "cell_type": "markdown",
   "id": "69e88fe4-7932-4f1b-9b26-cfb443164e1b",
   "metadata": {},
   "source": [
    "To understand `ClimaCore.jl` a bit better, I did the [tutorial](https://github.com/CliMA/ClimaWorkshops) which I stored in the [`ext_src` directory](../../../ext_src/02_tutorials/01_climacore/ClimaWorkshops/README.md)."
   ]
  },
  {
   "cell_type": "code",
   "execution_count": null,
   "id": "30cf6de7-f20f-4dbf-a68e-6f9a0e197ed8",
   "metadata": {},
   "outputs": [],
   "source": []
  }
 ],
 "metadata": {
  "kernelspec": {
   "display_name": "Python 3",
   "language": "python",
   "name": "python3"
  },
  "language_info": {
   "codemirror_mode": {
    "name": "ipython",
    "version": 3
   },
   "file_extension": ".py",
   "mimetype": "text/x-python",
   "name": "python",
   "nbconvert_exporter": "python",
   "pygments_lexer": "ipython3",
   "version": "3.9.5"
  }
 },
 "nbformat": 4,
 "nbformat_minor": 5
}
