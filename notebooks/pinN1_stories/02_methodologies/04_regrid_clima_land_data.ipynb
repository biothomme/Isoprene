{
 "cells": [
  {
   "cell_type": "code",
   "execution_count": 1,
   "id": "e2c55a86-6bd0-4b15-ab3f-3585d34a7096",
   "metadata": {},
   "outputs": [
    {
     "name": "stdout",
     "output_type": "stream",
     "text": [
      "Julia Version 1.6.3\n",
      "Commit ae8452a9e0 (2021-09-23 17:34 UTC)\n",
      "Platform Info:\n",
      "  OS: Linux (x86_64-pc-linux-gnu)\n",
      "  CPU: Intel(R) Xeon(R) CPU E5-2630 v4 @ 2.20GHz\n",
      "  WORD_SIZE: 64\n",
      "  LIBM: libopenlibm\n",
      "  LLVM: libLLVM-11.0.1 (ORCJIT, broadwell)\n",
      "Environment:\n",
      "  __LMOD_REF_COUNT_JULIA_DEPOT_PATH = /home/biotoml/.julia:1;/sw/comp/julia/1.6.3/rackham/lib/glob_pkg:1\n",
      "  JULIA_DEPOT_PATH = /home/biotoml/lsm/src/.julia/v1.6_depot:/home/biotoml/.julia:/sw/comp/julia/1.6.3/rackham/lib/glob_pkg\n",
      "  __LMOD_REF_COUNT_JULIA_LOAD_PATH = @:1;@v#.#:1;@stdlib:1;/sw/comp/julia/1.6.3/rackham/lib/glob_pkg/environments/v1.6:1\n",
      "  JULIA_PROJECT = /home/biotoml/lsm/src/.julia/v1.6_regrid\n",
      "  JULIA_ROOT = /sw/comp/julia/1.6.3/rackham\n",
      "  JULIA_LOAD_PATH = @:@v#.#:@stdlib:/sw/comp/julia/1.6.3/rackham/lib/glob_pkg/environments/v1.6\n",
      "nothing\n"
     ]
    }
   ],
   "source": [
    "# print version / should be 1.6.3\n",
    "println(versioninfo())\n",
    "\n",
    "# load centralized paths dictionary\n",
    "using YAML\n",
    "PATHS_FILE = \"../../../PATHS.yml\"\n",
    "PATHS = YAML.load_file(PATHS_FILE);\n",
    "\n",
    "\"\"\"\n",
    "    load_path(keys::Vector{String}):String\n",
    "\n",
    "Return the absolute path for a requested item within the nested PATHS dictionary.\n",
    "\"\"\"\n",
    "function loadpath(keys::Vector{String}):String\n",
    "    # recusively assemble paths from keys\n",
    "    requested_path = foldl((x, y) -> getindex(x, y), keys; init=PATHS)\n",
    "    # rephrase abs path from relative paths to be platform independent.\n",
    "    realpath(joinpath(splitdir(realpath(PATHS_FILE))[1], requested_path))\n",
    "end;"
   ]
  },
  {
   "cell_type": "code",
   "execution_count": 317,
   "id": "baa4b0ff-624e-4660-8308-93229d0a1db1",
   "metadata": {
    "scrolled": true,
    "tags": []
   },
   "outputs": [],
   "source": [
    "using NaNMath; nm=NaNMath\n",
    "using NCDatasets\n",
    "using Revise\n",
    "using StatsBase"
   ]
  },
  {
   "cell_type": "code",
   "execution_count": 11,
   "id": "99b0b168-f301-4a8a-9968-23bff763b114",
   "metadata": {},
   "outputs": [
    {
     "data": {
      "text/plain": [
       "\"/home/biotoml/lsm/src/.julia/v1.7_depot/artifacts/f3a9530cb23714c5d2a3863a7317ff2bfb32077a/BIOMASS_SHOOT_120X_1Y_V2.nc\""
      ]
     },
     "execution_count": 11,
     "metadata": {},
     "output_type": "execute_result"
    }
   ],
   "source": [
    "file = \"/home/biotoml/lsm/src/.julia/v1.7_depot/artifacts/f3a9530cb23714c5d2a3863a7317ff2bfb32077a/BIOMASS_SHOOT_120X_1Y_V2.nc\""
   ]
  },
  {
   "cell_type": "code",
   "execution_count": 12,
   "id": "f17ae090-cce9-4bf1-9fa6-614714413da0",
   "metadata": {
    "scrolled": true,
    "tags": []
   },
   "outputs": [],
   "source": [
    "ds = NCDataset(file, \"r\");"
   ]
  },
  {
   "cell_type": "code",
   "execution_count": 13,
   "id": "8e92c7ac-0099-4e09-9ec8-095443eaa9c7",
   "metadata": {},
   "outputs": [
    {
     "data": {
      "text/plain": [
       "NCDatasets.CFVariable{Float64, 2, NCDatasets.Variable{Float64, 2, NCDataset{Nothing}}, NCDatasets.Attributes{NCDataset{Nothing}}, NamedTuple{(:fillvalue, :scale_factor, :add_offset, :calendar, :time_origin, :time_factor), NTuple{6, Nothing}}}"
      ]
     },
     "execution_count": 13,
     "metadata": {},
     "output_type": "execute_result"
    }
   ],
   "source": [
    "typeof(ds[:data])"
   ]
  },
  {
   "cell_type": "code",
   "execution_count": 14,
   "id": "755c72f0-b2b5-4ff1-afa8-650a24b18ec8",
   "metadata": {
    "scrolled": true,
    "tags": []
   },
   "outputs": [
    {
     "name": "stdout",
     "output_type": "stream",
     "text": [
      "Summary Stats:\n",
      "Length:         43200\n",
      "Missing Count:  0\n",
      "Mean:           -0.000000\n",
      "Minimum:        -179.995833\n",
      "1st Quartile:   -89.997917\n",
      "Median:         0.000000\n",
      "3rd Quartile:   89.997917\n",
      "Maximum:        179.995833\n",
      "Type:           Float64\n",
      "Summary Stats:\n",
      "Length:         21600\n",
      "Missing Count:  0\n",
      "Mean:           0.000000\n",
      "Minimum:        -89.995833\n",
      "1st Quartile:   -44.997917\n",
      "Median:         0.000000\n",
      "3rd Quartile:   44.997917\n",
      "Maximum:        89.995833\n",
      "Type:           Float64\n"
     ]
    },
    {
     "data": {
      "text/plain": [
       "(nothing, nothing)"
      ]
     },
     "execution_count": 14,
     "metadata": {},
     "output_type": "execute_result"
    }
   ],
   "source": [
    "describe(ds[\"lon\"]), describe(ds[\"lat\"])"
   ]
  },
  {
   "cell_type": "code",
   "execution_count": 15,
   "id": "324f4c9e-2b0e-4967-bcfe-38f1a2e07269",
   "metadata": {},
   "outputs": [
    {
     "data": {
      "text/plain": [
       "Regridder2D"
      ]
     },
     "execution_count": 15,
     "metadata": {},
     "output_type": "execute_result"
    }
   ],
   "source": [
    "include(\"./regridding.jl\")"
   ]
  },
  {
   "cell_type": "code",
   "execution_count": 152,
   "id": "5db8bff0-c1d1-4bf4-bc19-47c05a2c4191",
   "metadata": {},
   "outputs": [
    {
     "data": {
      "text/plain": [
       "Regridder2D{Int64, Float64}(RegridAxis{Int64, Float64}[RegridAxis{Int64, Float64}(\"lat\", -90.0, 90.0, 180), RegridAxis{Int64, Float64}(\"lon\", -180.0, 180.0, 360)])"
      ]
     },
     "execution_count": 152,
     "metadata": {},
     "output_type": "execute_result"
    }
   ],
   "source": [
    "rgo = Regridder2D(180,360)"
   ]
  },
  {
   "cell_type": "code",
   "execution_count": 38,
   "id": "4cc9e672-4afd-443f-bcfd-80086e3eb86d",
   "metadata": {},
   "outputs": [
    {
     "data": {
      "text/plain": [
       "regrid_dataset (generic function with 1 method)"
      ]
     },
     "execution_count": 38,
     "metadata": {},
     "output_type": "execute_result"
    }
   ],
   "source": [
    "function init_regridded(regridder::RG; ft::Type{N}=Float64) where {N<:Number, RG<:Regridder}\n",
    "    zeros(ft, size(regridder))\n",
    "end\n",
    "\n",
    "function regrid_dataset(regridder::RG, ncds::NCDataset) where RG<:Regridder\n",
    "    regridded_ncds = init_regridded(regridder)\n",
    "end"
   ]
  },
  {
   "cell_type": "code",
   "execution_count": null,
   "id": "215d5939-8dda-4002-acd9-91d8a54a6086",
   "metadata": {},
   "outputs": [],
   "source": []
  },
  {
   "cell_type": "code",
   "execution_count": 39,
   "id": "10f8aa70-eda7-4236-a6a2-ba4d9f6ecdfc",
   "metadata": {},
   "outputs": [],
   "source": [
    "using IntervalSets"
   ]
  },
  {
   "cell_type": "code",
   "execution_count": 40,
   "id": "37e9979c-7d30-4d1a-b325-fa7fa3420ce1",
   "metadata": {},
   "outputs": [
    {
     "data": {
      "text/plain": [
       "intsect_intervals (generic function with 1 method)"
      ]
     },
     "execution_count": 40,
     "metadata": {},
     "output_type": "execute_result"
    }
   ],
   "source": [
    "function RegridAxis(name::String, pointrange::AbstractArray{FT}) where FT<:AbstractFloat\n",
    "    prsz½ = stepsize(pointrange) / 2\n",
    "    prmin = minimum(pointrange) - prsz½\n",
    "    prmax = maximum(pointrange) + prsz½\n",
    "    prcard = length(pointrange)\n",
    "    \n",
    "    RegridAxis{Int64, FT}(name, prmin, prmax, prcard)\n",
    "end\n",
    "\n",
    "function minmaxdist(pointrange::AbstractArray{FT}) where FT<:AbstractFloat\n",
    "    diff([extrema(pointrange)...])[1] / length(pointrange) * (length(pointrange)+1)\n",
    "end\n",
    "\n",
    "stepsize(pointrange::AbstractArray{FT}) where FT<:AbstractFloat = minmaxdist(pointrange)/length(pointrange)\n",
    "\n",
    "\n",
    "function intsect_intervals(src_itvs::AT, dest_itv::Interval) where {AT<:AbstractArray}\n",
    "    # first get width and index for intersecting intervals\n",
    "    map(\n",
    "        ((j, itv),) -> \n",
    "        let isct = dest_itv ∩ itv\n",
    "                isempty(isct) ? nothing : [j, width(isct)/width(itv)]\n",
    "        end, \n",
    "        enumerate(src_itvs)) |>\n",
    "    # filter the nothings\n",
    "    x -> filter(!isnothing, x) |>\n",
    "    # adjust the type of the array\n",
    "    x -> isempty(x) ? (return nothing) : convert(Array{eltype(x).b}, x) |>\n",
    "    x -> reduce(hcat, x)\n",
    "end"
   ]
  },
  {
   "cell_type": "code",
   "execution_count": 318,
   "id": "e89cecc6-fa2f-49e1-8f81-d006a99c49ab",
   "metadata": {},
   "outputs": [
    {
     "data": {
      "text/plain": [
       "RegridAxis{Int64, Float64}(\"exp\", -179.99999999999778, 179.99999999999778, 43200)"
      ]
     },
     "execution_count": 318,
     "metadata": {},
     "output_type": "execute_result"
    }
   ],
   "source": [
    "rgao = RegridAxis(\"aa\", -180., 180., 360)\n",
    "rgao2 = RegridAxis(\"exp\", ds[\"lon\"][:])"
   ]
  },
  {
   "cell_type": "code",
   "execution_count": null,
   "id": "5a81d2f8-29a2-4871-8813-d007b88619d3",
   "metadata": {},
   "outputs": [],
   "source": []
  },
  {
   "cell_type": "code",
   "execution_count": 320,
   "id": "e9336bd3-81e9-44b8-85b1-3ed6fcc7658c",
   "metadata": {},
   "outputs": [
    {
     "data": {
      "text/plain": [
       "120-element Vector{Float64}:\n",
       "   1.0\n",
       "   2.0\n",
       "   3.0\n",
       "   4.0\n",
       "   5.0\n",
       "   6.0\n",
       "   7.0\n",
       "   8.0\n",
       "   9.0\n",
       "  10.0\n",
       "  11.0\n",
       "  12.0\n",
       "  13.0\n",
       "   ⋮\n",
       " 109.0\n",
       " 110.0\n",
       " 111.0\n",
       " 112.0\n",
       " 113.0\n",
       " 114.0\n",
       " 115.0\n",
       " 116.0\n",
       " 117.0\n",
       " 118.0\n",
       " 119.0\n",
       " 120.0"
      ]
     },
     "execution_count": 320,
     "metadata": {},
     "output_type": "execute_result"
    }
   ],
   "source": [
    "a = intsect_intervals(intervals(rgao2), intervals(rgao)[1])\n",
    "\n",
    "ivs = map(ax -> intervals(ax)[100], [rgo.axes[2],rgo.axes[1]])"
   ]
  },
  {
   "cell_type": "code",
   "execution_count": 326,
   "id": "f9474bb6-23cf-460b-9b49-12f6040f2685",
   "metadata": {},
   "outputs": [
    {
     "data": {
      "text/plain": [
       "regrid_cell (generic function with 1 method)"
      ]
     },
     "execution_count": 326,
     "metadata": {},
     "output_type": "execute_result"
    }
   ],
   "source": [
    "function extract_cell(ncds::NCDataset, itvs::AbstractArray, variables::AbstractArray{String})\n",
    "    ncdims = keys(ncds.dim)\n",
    "    ncdim_vects = map(var -> intervals(RegridAxis(var, ncds[var][:])), ncdims)\n",
    "    map(var -> extract_subarray(ncds[var], ncdim_vects, itvs), variables)\n",
    "end\n",
    "\n",
    "function extract_subarray(data::NCDatasets.CFVariable, dimension_vectors::AbstractArray, dest_itvs::AbstractArray)\n",
    "    index_weights = map(((dim_itvs, dest_itv),) -> intsect_intervals(dim_itvs, dest_itv), zip(dimension_vectors, dest_itvs))\n",
    "    indices = map(j -> convert(Array{Int}, index_weights[j][1,:]), 1:length(index_weights))\n",
    "    weigths =  map(j -> index_weights[j][2,:], 1:length(index_weights))\n",
    "\n",
    "    data[indices...], ortho_multiply(weigths')\n",
    "end\n",
    "\n",
    "# simple extension to the \n",
    "nm_weighted(data, weights, operation) = operation(data.*weights)\n",
    "\n",
    "function regrid_cell(ncds::NCDataset, itvs::AbstractArray, variables::AbstractArray{String}, operation::Function)\n",
    "    map(((dt,wt),) -> nm_weighted(dt, wt, operation), extract_cell(ncds, itvs, variables))\n",
    "end\n",
    "\n",
    "function ortho_multiply(vec1::AbstractArray, vec2::AbstractArray)\n",
    "    let z=vec1'*vec2\n",
    "        reshape(z, (1, length(z)))\n",
    "    end\n",
    "end\n",
    "\n",
    "function ortho_product(ortho_bases::AbstractArray)\n",
    "    flat_tensor = reduce(ortho_multiply, ortho_bases)\n",
    "    reshape(flat_tensor, (length.(ortho_bases)...))\n",
    "end"
   ]
  },
  {
   "cell_type": "code",
   "execution_count": 328,
   "id": "1af3cc03-5a28-4c1d-977f-9d44e0337897",
   "metadata": {},
   "outputs": [
    {
     "data": {
      "text/plain": [
       "2-element Vector{Float64}:\n",
       "   0.11253981541991022\n",
       " NaN"
      ]
     },
     "execution_count": 328,
     "metadata": {},
     "output_type": "execute_result"
    }
   ],
   "source": [
    "j = regrid_cell(ds, ivs, [\"data\", \"std\"], nm.mean)"
   ]
  },
  {
   "cell_type": "code",
   "execution_count": 164,
   "id": "83dff6b8-ec98-4093-bd20-075df02649ed",
   "metadata": {},
   "outputs": [],
   "source": []
  },
  {
   "cell_type": "code",
   "execution_count": 165,
   "id": "8dd4eaf9-8c97-4c50-babe-7c7353f5f5cb",
   "metadata": {},
   "outputs": [
    {
     "ename": "LoadError",
     "evalue": "MethodError: no method matching wsum(::Matrix{Float64})\n\u001b[0mClosest candidates are:\n\u001b[0m  wsum(::AbstractArray, \u001b[91m::AbstractVector{T} where T\u001b[39m, \u001b[91m::Colon\u001b[39m) at /home/biotoml/.julia/packages/StatsBase/548SN/src/weights.jl:357\n\u001b[0m  wsum(::AbstractArray{var\"#s27\", N} where {var\"#s27\"<:Number, N}, \u001b[91m::UnitWeights\u001b[39m, \u001b[91m::Int64\u001b[39m) at /home/biotoml/.julia/packages/StatsBase/548SN/src/weights.jl:553\n\u001b[0m  wsum(::AbstractArray{T, N} where N, \u001b[91m::AbstractVector{W}\u001b[39m, \u001b[91m::Int64\u001b[39m) where {T<:Number, W<:Real} at /home/biotoml/.julia/packages/StatsBase/548SN/src/weights.jl:548\n\u001b[0m  ...",
     "output_type": "error",
     "traceback": [
      "MethodError: no method matching wsum(::Matrix{Float64})\n\u001b[0mClosest candidates are:\n\u001b[0m  wsum(::AbstractArray, \u001b[91m::AbstractVector{T} where T\u001b[39m, \u001b[91m::Colon\u001b[39m) at /home/biotoml/.julia/packages/StatsBase/548SN/src/weights.jl:357\n\u001b[0m  wsum(::AbstractArray{var\"#s27\", N} where {var\"#s27\"<:Number, N}, \u001b[91m::UnitWeights\u001b[39m, \u001b[91m::Int64\u001b[39m) at /home/biotoml/.julia/packages/StatsBase/548SN/src/weights.jl:553\n\u001b[0m  wsum(::AbstractArray{T, N} where N, \u001b[91m::AbstractVector{W}\u001b[39m, \u001b[91m::Int64\u001b[39m) where {T<:Number, W<:Real} at /home/biotoml/.julia/packages/StatsBase/548SN/src/weights.jl:548\n\u001b[0m  ...",
      "",
      "Stacktrace:",
      " [1] top-level scope",
      "   @ In[165]:1",
      " [2] eval",
      "   @ ./boot.jl:360 [inlined]",
      " [3] include_string(mapexpr::typeof(REPL.softscope), mod::Module, code::String, filename::String)",
      "   @ Base ./loading.jl:1116"
     ]
    }
   ],
   "source": [
    "wsum(j[1])"
   ]
  },
  {
   "cell_type": "code",
   "execution_count": 215,
   "id": "43da6c61-953f-4218-a730-ed168692e21f",
   "metadata": {},
   "outputs": [
    {
     "data": {
      "text/plain": [
       "1×2 Matrix{Int64}:\n",
       " 3  4"
      ]
     },
     "execution_count": 215,
     "metadata": {},
     "output_type": "execute_result"
    }
   ],
   "source": [
    "x =[1 2]\n",
    "y = [3 4]"
   ]
  },
  {
   "cell_type": "code",
   "execution_count": 216,
   "id": "7b1114ce-8cab-4954-b006-5e050b537110",
   "metadata": {},
   "outputs": [
    {
     "data": {
      "text/plain": [
       "2×2 Matrix{Int64}:\n",
       " 3  4\n",
       " 6  8"
      ]
     },
     "execution_count": 216,
     "metadata": {},
     "output_type": "execute_result"
    }
   ],
   "source": [
    "vectors = [x, x, y]"
   ]
  },
  {
   "cell_type": "code",
   "execution_count": 283,
   "id": "2eb9afde-e874-4bc7-a3dc-2acd685877a8",
   "metadata": {},
   "outputs": [
    {
     "data": {
      "text/plain": [
       "ortho_product (generic function with 1 method)"
      ]
     },
     "execution_count": 283,
     "metadata": {},
     "output_type": "execute_result"
    }
   ],
   "source": []
  },
  {
   "cell_type": "code",
   "execution_count": null,
   "id": "e9160cbb-e627-4d50-b55e-13615ebaffa2",
   "metadata": {},
   "outputs": [],
   "source": []
  }
 ],
 "metadata": {
  "kernelspec": {
   "display_name": "Julia 1.6.3 regrid",
   "language": "julia",
   "name": "julia-1.6_regrid"
  },
  "language_info": {
   "file_extension": ".jl",
   "mimetype": "application/julia",
   "name": "julia",
   "version": "1.6.3"
  }
 },
 "nbformat": 4,
 "nbformat_minor": 5
}
