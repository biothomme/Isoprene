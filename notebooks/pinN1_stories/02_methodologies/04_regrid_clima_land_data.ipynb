{
 "cells": [
  {
   "cell_type": "code",
   "execution_count": 1,
   "id": "e2c55a86-6bd0-4b15-ab3f-3585d34a7096",
   "metadata": {},
   "outputs": [
    {
     "name": "stdout",
     "output_type": "stream",
     "text": [
      "Julia Version 1.6.3\n",
      "Commit ae8452a9e0 (2021-09-23 17:34 UTC)\n",
      "Platform Info:\n",
      "  OS: Linux (x86_64-pc-linux-gnu)\n",
      "  CPU: Intel(R) Xeon(R) CPU E5-2630 v3 @ 2.40GHz\n",
      "  WORD_SIZE: 64\n",
      "  LIBM: libopenlibm\n",
      "  LLVM: libLLVM-11.0.1 (ORCJIT, haswell)\n",
      "Environment:\n",
      "  __LMOD_REF_COUNT_JULIA_DEPOT_PATH = /home/biotoml/.julia:1;/sw/comp/julia/1.6.3/rackham/lib/glob_pkg:1\n",
      "  JULIA_DEPOT_PATH = /home/biotoml/lsm/Isoprene/src/.julia/v1.6_depot:/home/biotoml/.julia:/sw/comp/julia/1.6.3/rackham/lib/glob_pkg\n",
      "  __LMOD_REF_COUNT_JULIA_LOAD_PATH = @:1;@v#.#:1;@stdlib:1;/sw/comp/julia/1.6.3/rackham/lib/glob_pkg/environments/v1.6:1\n",
      "  JULIA_PROJECT = /home/biotoml/lsm/Isoprene/src/.julia/v1.6_regrid\n",
      "  JULIA_ROOT = /sw/comp/julia/1.6.3/rackham\n",
      "  JULIA_LOAD_PATH = @:@v#.#:@stdlib:/sw/comp/julia/1.6.3/rackham/lib/glob_pkg/environments/v1.6\n",
      "nothing\n"
     ]
    }
   ],
   "source": [
    "# print version / should be 1.6.3\n",
    "println(versioninfo())\n",
    "\n",
    "# load centralized paths dictionary\n",
    "using YAML\n",
    "PATHS_FILE = \"../../../PATHS.yml\"\n",
    "PATHS = YAML.load_file(PATHS_FILE);\n",
    "\n",
    "\"\"\"\n",
    "    load_path(keys::Vector{String}):String\n",
    "\n",
    "Return the absolute path for a requested item within the nested PATHS dictionary.\n",
    "\"\"\"\n",
    "function loadpath(keys::Vector{String}):String\n",
    "    # recusively assemble paths from keys\n",
    "    requested_path = foldl((x, y) -> getindex(x, y), keys; init=PATHS)\n",
    "    # rephrase abs path from relative paths to be platform independent.\n",
    "    realpath(joinpath(splitdir(realpath(PATHS_FILE))[1], requested_path))\n",
    "end;"
   ]
  },
  {
   "cell_type": "code",
   "execution_count": 90,
   "id": "baa4b0ff-624e-4660-8308-93229d0a1db1",
   "metadata": {
    "scrolled": true,
    "tags": []
   },
   "outputs": [],
   "source": [
    "using NCDatasets\n",
    "using Revise\n",
    "using StatsBase"
   ]
  },
  {
   "cell_type": "code",
   "execution_count": 73,
   "id": "99b0b168-f301-4a8a-9968-23bff763b114",
   "metadata": {},
   "outputs": [
    {
     "data": {
      "text/plain": [
       "\"/home/biotoml/lsm/Isoprene/src/.julia/v1.7_depot/artifacts/f3a9530cb23714c5d2a3863a7317ff2bfb32077a/BIOMASS_SHOOT_120X_1Y_V2.nc\""
      ]
     },
     "execution_count": 73,
     "metadata": {},
     "output_type": "execute_result"
    }
   ],
   "source": [
    "file = \"/home/biotoml/lsm/Isoprene/src/.julia/v1.7_depot/artifacts/f3a9530cb23714c5d2a3863a7317ff2bfb32077a/BIOMASS_SHOOT_120X_1Y_V2.nc\""
   ]
  },
  {
   "cell_type": "code",
   "execution_count": 74,
   "id": "f17ae090-cce9-4bf1-9fa6-614714413da0",
   "metadata": {
    "scrolled": true,
    "tags": []
   },
   "outputs": [],
   "source": [
    "ds = NCDataset(file);"
   ]
  },
  {
   "cell_type": "code",
   "execution_count": 93,
   "id": "755c72f0-b2b5-4ff1-afa8-650a24b18ec8",
   "metadata": {
    "scrolled": true,
    "tags": []
   },
   "outputs": [
    {
     "name": "stdout",
     "output_type": "stream",
     "text": [
      "Summary Stats:\n",
      "Length:         43200\n",
      "Missing Count:  0\n",
      "Mean:           -0.000000\n",
      "Minimum:        -179.995833\n",
      "1st Quartile:   -89.997917\n",
      "Median:         0.000000\n",
      "3rd Quartile:   89.997917\n",
      "Maximum:        179.995833\n",
      "Type:           Float64\n",
      "Summary Stats:\n",
      "Length:         21600\n",
      "Missing Count:  0\n",
      "Mean:           0.000000\n",
      "Minimum:        -89.995833\n",
      "1st Quartile:   -44.997917\n",
      "Median:         0.000000\n",
      "3rd Quartile:   44.997917\n",
      "Maximum:        89.995833\n",
      "Type:           Float64\n"
     ]
    },
    {
     "data": {
      "text/plain": [
       "(nothing, nothing)"
      ]
     },
     "execution_count": 93,
     "metadata": {},
     "output_type": "execute_result"
    }
   ],
   "source": [
    "describe(ds[\"lon\"]), describe(ds[\"lat\"])"
   ]
  },
  {
   "cell_type": "code",
   "execution_count": 9,
   "id": "2589c588-3757-4238-b24c-29a810009313",
   "metadata": {
    "scrolled": true,
    "tags": []
   },
   "outputs": [
    {
     "data": {
      "text/plain": [
       "91×91 Matrix{Float64}:\n",
       " NaN  NaN  NaN  NaN  NaN  NaN  NaN  NaN  …  NaN  NaN  NaN  NaN  NaN  NaN  NaN\n",
       " NaN  NaN  NaN  NaN  NaN  NaN  NaN  NaN     NaN  NaN  NaN  NaN  NaN  NaN  NaN\n",
       " NaN  NaN  NaN  NaN  NaN  NaN  NaN  NaN     NaN  NaN  NaN  NaN  NaN  NaN  NaN\n",
       " NaN  NaN  NaN  NaN  NaN  NaN  NaN  NaN     NaN  NaN  NaN  NaN  NaN  NaN  NaN\n",
       " NaN  NaN  NaN  NaN  NaN  NaN  NaN  NaN     NaN  NaN  NaN  NaN  NaN  NaN  NaN\n",
       " NaN  NaN  NaN  NaN  NaN  NaN  NaN  NaN  …  NaN  NaN  NaN  NaN  NaN  NaN  NaN\n",
       " NaN  NaN  NaN  NaN  NaN  NaN  NaN  NaN     NaN  NaN  NaN  NaN  NaN  NaN  NaN\n",
       " NaN  NaN  NaN  NaN  NaN  NaN  NaN  NaN     NaN  NaN  NaN  NaN  NaN  NaN  NaN\n",
       " NaN  NaN  NaN  NaN  NaN  NaN  NaN  NaN     NaN  NaN  NaN  NaN  NaN  NaN  NaN\n",
       " NaN  NaN  NaN  NaN  NaN  NaN  NaN  NaN     NaN  NaN  NaN  NaN  NaN  NaN  NaN\n",
       " NaN  NaN  NaN  NaN  NaN  NaN  NaN  NaN  …  NaN  NaN  NaN  NaN  NaN  NaN  NaN\n",
       " NaN  NaN  NaN  NaN  NaN  NaN  NaN  NaN     NaN  NaN  NaN  NaN  NaN  NaN  NaN\n",
       " NaN  NaN  NaN  NaN  NaN  NaN  NaN  NaN     NaN  NaN  NaN  NaN  NaN  NaN  NaN\n",
       "   ⋮                        ⋮            ⋱         ⋮                        ⋮\n",
       " NaN  NaN  NaN  NaN  NaN  NaN  NaN  NaN     NaN  NaN  NaN  NaN  NaN  NaN  NaN\n",
       " NaN  NaN  NaN  NaN  NaN  NaN  NaN  NaN  …  NaN  NaN  NaN  NaN  NaN  NaN  NaN\n",
       " NaN  NaN  NaN  NaN  NaN  NaN  NaN  NaN     NaN  NaN  NaN  NaN  NaN  NaN  NaN\n",
       " NaN  NaN  NaN  NaN  NaN  NaN  NaN  NaN     NaN  NaN  NaN  NaN  NaN  NaN  NaN\n",
       " NaN  NaN  NaN  NaN  NaN  NaN  NaN  NaN     NaN  NaN  NaN  NaN  NaN  NaN  NaN\n",
       " NaN  NaN  NaN  NaN  NaN  NaN  NaN  NaN     NaN  NaN  NaN  NaN  NaN  NaN  NaN\n",
       " NaN  NaN  NaN  NaN  NaN  NaN  NaN  NaN  …  NaN  NaN  NaN  NaN  NaN  NaN  NaN\n",
       " NaN  NaN  NaN  NaN  NaN  NaN  NaN  NaN     NaN  NaN  NaN  NaN  NaN  NaN  NaN\n",
       " NaN  NaN  NaN  NaN  NaN  NaN  NaN  NaN     NaN  NaN  NaN  NaN  NaN  NaN  NaN\n",
       " NaN  NaN  NaN  NaN  NaN  NaN  NaN  NaN     NaN  NaN  NaN  NaN  NaN  NaN  NaN\n",
       " NaN  NaN  NaN  NaN  NaN  NaN  NaN  NaN     NaN  NaN  NaN  NaN  NaN  NaN  NaN\n",
       " NaN  NaN  NaN  NaN  NaN  NaN  NaN  NaN  …  NaN  NaN  NaN  NaN  NaN  NaN  NaN"
      ]
     },
     "execution_count": 9,
     "metadata": {},
     "output_type": "execute_result"
    }
   ],
   "source": [
    "mat[10:100, 10:100]"
   ]
  },
  {
   "cell_type": "raw",
   "id": "00a498c5-3220-46b4-b160-1d1468a79bab",
   "metadata": {},
   "source": [
    "struct OurRational{T<:Integer} <: Real\n",
    "    num::T\n",
    "    den::T\n",
    "    function OurRational{T}(num::T, den::T) where T<:Integer\n",
    "        if num == 0 && den == 0\n",
    "            error(\"invalid rational: 0//0\")\n",
    "        end\n",
    "        num = flipsign(num, den)\n",
    "        den = flipsign(den, den)\n",
    "        g = gcd(num, den)\n",
    "        num = div(num, g)\n",
    "        den = div(den, g)\n",
    "        new(num, den)\n",
    "    end\n",
    "end"
   ]
  },
  {
   "cell_type": "code",
   "execution_count": 17,
   "id": "324f4c9e-2b0e-4967-bcfe-38f1a2e07269",
   "metadata": {},
   "outputs": [
    {
     "data": {
      "text/plain": [
       "Regridder2D"
      ]
     },
     "execution_count": 17,
     "metadata": {},
     "output_type": "execute_result"
    }
   ],
   "source": [
    "include(\"./regridding.jl\")"
   ]
  },
  {
   "cell_type": "code",
   "execution_count": 19,
   "id": "10f17f6e-3eb5-4c27-acb5-37956d2c06d3",
   "metadata": {},
   "outputs": [
    {
     "data": {
      "text/plain": [
       "2-element Vector{RegridAxis{Int64, Float64}}:\n",
       " RegridAxis{Int64, Float64}(\"lat\", 1.0, 2.0, 1)\n",
       " RegridAxis{Int64, Float64}(\"lon\", 3.0, 4.0, 1)"
      ]
     },
     "execution_count": 19,
     "metadata": {},
     "output_type": "execute_result"
    }
   ],
   "source": [
    "rg.axes"
   ]
  },
  {
   "cell_type": "code",
   "execution_count": 71,
   "id": "5db8bff0-c1d1-4bf4-bc19-47c05a2c4191",
   "metadata": {},
   "outputs": [
    {
     "data": {
      "text/plain": [
       "Regridder2D{Int64, Float64}(RegridAxis{Int64, Float64}[RegridAxis{Int64, Float64}(\"lat\", 1.0, 2.0, 10), RegridAxis{Int64, Float64}(\"lon\", 3.0, 4.0, 180)])"
      ]
     },
     "execution_count": 71,
     "metadata": {},
     "output_type": "execute_result"
    }
   ],
   "source": [
    "reg = Regridder2D(1.,2.,3.,4.,10,180)"
   ]
  },
  {
   "cell_type": "code",
   "execution_count": 8,
   "id": "f5de618f-432a-4753-96d0-6748d6df8825",
   "metadata": {},
   "outputs": [
    {
     "data": {
      "text/plain": [
       "NCDataset{Nothing}"
      ]
     },
     "execution_count": 8,
     "metadata": {},
     "output_type": "execute_result"
    }
   ],
   "source": [
    "typeof(ds)"
   ]
  },
  {
   "cell_type": "code",
   "execution_count": 20,
   "id": "4cc9e672-4afd-443f-bcfd-80086e3eb86d",
   "metadata": {},
   "outputs": [
    {
     "data": {
      "text/plain": [
       "init_regridded (generic function with 1 method)"
      ]
     },
     "execution_count": 20,
     "metadata": {},
     "output_type": "execute_result"
    }
   ],
   "source": [
    "function init_regridded(regridder::RG) where RG<:Regridder\n",
    "    \n",
    "end"
   ]
  },
  {
   "cell_type": "code",
   "execution_count": null,
   "id": "215d5939-8dda-4002-acd9-91d8a54a6086",
   "metadata": {},
   "outputs": [],
   "source": [
    "function regrid_dataset(regridder::RG, ncds::NCDataset) where RG<:Regridder\n",
    "    regridded_ncds = init_regridded(regridder)\n",
    "end"
   ]
  },
  {
   "cell_type": "code",
   "execution_count": 10,
   "id": "c9b2635c-3b47-4e26-9734-523ff762f52d",
   "metadata": {},
   "outputs": [
    {
     "data": {
      "text/plain": [
       "Vector{Float64} (alias for Array{Float64, 1})"
      ]
     },
     "execution_count": 10,
     "metadata": {},
     "output_type": "execute_result"
    }
   ],
   "source": [
    "typeof([1.,2.])"
   ]
  },
  {
   "cell_type": "code",
   "execution_count": 21,
   "id": "f7e83e3c-e713-4229-b6a1-5ab1f0cae381",
   "metadata": {},
   "outputs": [
    {
     "data": {
      "text/plain": [
       "3-element Vector{Float64}:\n",
       " NaN\n",
       " NaN\n",
       " NaN"
      ]
     },
     "execution_count": 21,
     "metadata": {},
     "output_type": "execute_result"
    }
   ],
   "source": [
    "va = [NaN, NaN, NaN]"
   ]
  },
  {
   "cell_type": "code",
   "execution_count": 24,
   "id": "b2587769-b34c-4474-8f40-a65c5eaa964a",
   "metadata": {},
   "outputs": [
    {
     "data": {
      "text/plain": [
       "3-element Vector{Float64}:\n",
       " NaN\n",
       " NaN\n",
       " NaN"
      ]
     },
     "execution_count": 24,
     "metadata": {},
     "output_type": "execute_result"
    }
   ],
   "source": [
    "va*va'*va"
   ]
  },
  {
   "cell_type": "code",
   "execution_count": 59,
   "id": "cd8ff296-3821-4f7d-b003-2eba2a47389c",
   "metadata": {},
   "outputs": [],
   "source": [
    "Base.length(rga::RegridAxis) = rga.coordcard"
   ]
  },
  {
   "cell_type": "code",
   "execution_count": 69,
   "id": "fd73a40b-d89d-497d-b653-92492f6a4e4a",
   "metadata": {},
   "outputs": [],
   "source": [
    "Base.size(rg::RG) where RG<:Regridder = tuple(map(length, rg.axes)...)"
   ]
  },
  {
   "cell_type": "code",
   "execution_count": 72,
   "id": "b24850e1-76b5-4fd2-b63b-9fcdf9ed115e",
   "metadata": {},
   "outputs": [
    {
     "data": {
      "text/plain": [
       "(10, 180)"
      ]
     },
     "execution_count": 72,
     "metadata": {},
     "output_type": "execute_result"
    }
   ],
   "source": [
    "size(reg)"
   ]
  },
  {
   "cell_type": "code",
   "execution_count": null,
   "id": "4e01c17c-0c1a-425c-8efa-3c7af6e51b77",
   "metadata": {},
   "outputs": [],
   "source": []
  }
 ],
 "metadata": {
  "kernelspec": {
   "display_name": "Julia 1.6.3 regrid",
   "language": "julia",
   "name": "julia-1.6_regrid"
  },
  "language_info": {
   "file_extension": ".jl",
   "mimetype": "application/julia",
   "name": "julia",
   "version": "1.6.3"
  }
 },
 "nbformat": 4,
 "nbformat_minor": 5
}
