{
 "cells": [
  {
   "cell_type": "code",
   "execution_count": 2,
   "id": "2651f008-566d-420a-aea6-dd0095f5f40f",
   "metadata": {},
   "outputs": [
    {
     "name": "stdout",
     "output_type": "stream",
     "text": [
      "3.7.12 | packaged by conda-forge | (default, Oct 26 2021, 06:08:21) \n",
      "[GCC 9.4.0]\n"
     ]
    }
   ],
   "source": [
    "# Check if python is 3.7.12\n",
    "import numpy as np\n",
    "import os\n",
    "import sys\n",
    "\n",
    "from __init__ import get_path\n",
    "\n",
    "print(sys.version)\n",
    "%load_ext autoreload\n",
    "%autoreload 2"
   ]
  },
  {
   "cell_type": "code",
   "execution_count": 3,
   "id": "feb4b197-0745-4555-93c5-746462f36f13",
   "metadata": {},
   "outputs": [],
   "source": [
    "from uppmax_script_class import UppmaxScript\n",
    "\n",
    "NAME_BASICSFILE = get_path(\"EXTERNAL\", \"SLURMSUBMITTER\", \"BASICS\")\n",
    "NAME_LOGDIR = get_path(\"EXTERNAL\", \"SLURMSUBMITTER\", \"LOGDIR\")"
   ]
  },
  {
   "cell_type": "markdown",
   "id": "21964271-9d68-448d-b99e-535438cfb3cc",
   "metadata": {},
   "source": [
    "# Run SLURM scripts on UPPMAX"
   ]
  },
  {
   "cell_type": "markdown",
   "id": "ccd7022a-4dc0-46b6-abbd-21a538c86496",
   "metadata": {},
   "source": [
    "As some jobs cannot be run in an open notebook, we use slurm submission of subsequent scripts to accomplish them. This utilizes a class (`UppmaxScript`) from my master thesis project."
   ]
  },
  {
   "cell_type": "markdown",
   "id": "03f3ee38-20d5-48ac-8532-5b51e9bba158",
   "metadata": {},
   "source": [
    "<div class=\"alert-info\"><br><b>-> Note!</b> Still one can edit the script afterwards, but the core is smoothely written by UppmaxScript.<br><br></div>"
   ]
  },
  {
   "cell_type": "raw",
   "id": "c29df980-f857-4806-917f-778f05849353",
   "metadata": {},
   "source": [
    "# assemble the script basics\n",
    "\n",
    "command_software = \"\"\n",
    "\n",
    "us = UppmaxScript(\n",
    "    command_software,            # command\n",
    "    10,                          # number of cores\n",
    "    email_notifications=\"FAIL\",  # notification type\n",
    "    modules=[\"bioinfo-tools\"],   # modules of UPPMAX\n",
    "    log_dir=LOG_DIR,             # directory for the slurm out and err files\n",
    "    run_duration=\"1-00:00:00\",   # max duration of the job\n",
    "    basics_file=\"./SLURM.json\"   # very important file defining the basics of the SLURM job and the \n",
    "                                 #   directory where the script will be saved.\n",
    ")"
   ]
  },
  {
   "cell_type": "raw",
   "id": "f20fda1a-aa1f-448e-aaf0-dc5254045cb9",
   "metadata": {},
   "source": [
    "# write the script to the script directory\n",
    "\n",
    "script_file_name = us.write_script()"
   ]
  },
  {
   "cell_type": "raw",
   "id": "8ec2854e-69d9-4b89-adba-bbbcfed83fe2",
   "metadata": {},
   "source": [
    "# one can run it immediately after creating (command will always run the last produced file; but only once!)\n",
    "\n",
    "us.run_last_script()"
   ]
  },
  {
   "cell_type": "markdown",
   "id": "025c4f7d-45d2-49d0-a875-497f2e46b088",
   "metadata": {},
   "source": [
    "We use the `SCRIPTS_BASICS.json` file in the root directory. The logfiles should be stored within the `cache` directory in an own folder."
   ]
  },
  {
   "cell_type": "raw",
   "id": "518efd2b-9ad6-4457-ba7c-f9c120dd5632",
   "metadata": {},
   "source": [
    "NAME_BASICSFILE = get_path(\"EXTERNAL\", \"SLURMSUBMITTER\", \"BASICS\")\n",
    "NAME_LOGDIR = get_path(\"EXTERNAL\", \"SLURMSUBMITTER\", \"LOGDIR\")"
   ]
  },
  {
   "cell_type": "markdown",
   "id": "5b5092b0-5302-4bf2-8520-f79e336e57a3",
   "metadata": {},
   "source": [
    "So we can subsequently start growing and submitting scripts."
   ]
  },
  {
   "cell_type": "markdown",
   "id": "4b12af22-5d6a-4dd5-913e-3e9f45973197",
   "metadata": {
    "tags": []
   },
   "source": [
    "---\n",
    "---\n",
    "## Scripts"
   ]
  },
  {
   "cell_type": "markdown",
   "id": "247e4093-882e-44fd-8eac-9d5f1da1e3aa",
   "metadata": {},
   "source": [
    "### New script - download ERA5 hourly from 2015-2019 from CDS\n",
    "29.09.2022"
   ]
  },
  {
   "cell_type": "code",
   "execution_count": 5,
   "id": "46cf85f6-5b89-4c5e-a9d9-bd7c74a04226",
   "metadata": {},
   "outputs": [],
   "source": [
    "command_software = get_path(\"CODE\", \"SCRIPTS\", \"PYTHON\", \"01_ERA5\")\n",
    "command = f\"python {command_software}\"\n",
    "\n",
    "us = UppmaxScript(\n",
    "    command,\n",
    "    2,\n",
    "    email_notifications=\"FAIL\",\n",
    "    modules=[],\n",
    "    log_dir=NAME_LOGDIR,\n",
    "    run_duration=\"1-00:00:00\",\n",
    "    basics_file=NAME_BASICSFILE\n",
    ")"
   ]
  },
  {
   "cell_type": "code",
   "execution_count": 6,
   "id": "91802848-168c-4d65-a5d3-330d6ab8f76f",
   "metadata": {},
   "outputs": [
    {
     "name": "stdout",
     "output_type": "stream",
     "text": [
      "The script was written to the file /crex/proj/snic2022-23-321/private/thomas/src/scripts/slurm/job_2022_09_29_14_16_31.sh. Run `<uppmax_script_class.UppmaxScript object at 0x2b0de4e3e2d0>.run_last_script()` to submit it.\n"
     ]
    }
   ],
   "source": [
    "script_file_name = us.write_script()"
   ]
  },
  {
   "cell_type": "code",
   "execution_count": 7,
   "id": "b2235d74-0cd5-4ef5-acb0-e8504e5788a0",
   "metadata": {},
   "outputs": [
    {
     "name": "stdout",
     "output_type": "stream",
     "text": [
      "Submitted batch job 30089711 on cluster rackham\n",
      "\n",
      "Job for script /crex/proj/snic2022-23-321/private/thomas/src/scripts/slurm/job_2022_09_29_14_16_31.sh was successfully submitted.\n"
     ]
    }
   ],
   "source": [
    "us.run_last_script()"
   ]
  },
  {
   "cell_type": "markdown",
   "id": "69dede99-be33-4a7a-921b-73972e0fb7f0",
   "metadata": {},
   "source": [
    "### New script - regridding `GriddingMachine.jl` datasets\n",
    "04.10.2022"
   ]
  },
  {
   "cell_type": "code",
   "execution_count": 4,
   "id": "87a4f649-f746-464f-81a3-63ff69c8bc3e",
   "metadata": {},
   "outputs": [],
   "source": [
    "command_software = get_path(\"CODE\", \"SCRIPTS\", \"PYTHON\", \"02_REGRIDDING\")\n",
    "command = f\"python {command_software}\"\n",
    "\n",
    "us = UppmaxScript(\n",
    "    command,\n",
    "    5,\n",
    "    email_notifications=\"FAIL\",\n",
    "    modules=[],\n",
    "    log_dir=NAME_LOGDIR,\n",
    "    run_duration=\"1-00:00:00\",\n",
    "    basics_file=NAME_BASICSFILE\n",
    ")"
   ]
  },
  {
   "cell_type": "code",
   "execution_count": 5,
   "id": "f6262adb-c5a2-4f38-bc8b-a97abe786fad",
   "metadata": {},
   "outputs": [
    {
     "name": "stdout",
     "output_type": "stream",
     "text": [
      "The script was written to the file /crex/proj/snic2022-23-321/private/thomas/src/scripts/slurm/job_2022_10_04_13_27_47.sh. Run `<uppmax_script_class.UppmaxScript object at 0x2b0d3dbe9e10>.run_last_script()` to submit it.\n"
     ]
    }
   ],
   "source": [
    "script_file_name = us.write_script()"
   ]
  },
  {
   "cell_type": "code",
   "execution_count": 6,
   "id": "a21faf66-7027-419b-a983-77cbafdf2160",
   "metadata": {},
   "outputs": [
    {
     "name": "stdout",
     "output_type": "stream",
     "text": [
      "Submitted batch job 30221221 on cluster rackham\n",
      "\n",
      "Job for script /crex/proj/snic2022-23-321/private/thomas/src/scripts/slurm/job_2022_10_04_13_27_47.sh was successfully submitted.\n"
     ]
    }
   ],
   "source": [
    "us.run_last_script()"
   ]
  },
  {
   "cell_type": "code",
   "execution_count": null,
   "id": "3320b100-864b-4405-8851-859079222676",
   "metadata": {},
   "outputs": [],
   "source": []
  }
 ],
 "metadata": {
  "kernelspec": {
   "display_name": "Python 3 (ipykernel)",
   "language": "python",
   "name": "python3"
  },
  "language_info": {
   "codemirror_mode": {
    "name": "ipython",
    "version": 3
   },
   "file_extension": ".py",
   "mimetype": "text/x-python",
   "name": "python",
   "nbconvert_exporter": "python",
   "pygments_lexer": "ipython3",
   "version": "3.7.12"
  }
 },
 "nbformat": 4,
 "nbformat_minor": 5
}
