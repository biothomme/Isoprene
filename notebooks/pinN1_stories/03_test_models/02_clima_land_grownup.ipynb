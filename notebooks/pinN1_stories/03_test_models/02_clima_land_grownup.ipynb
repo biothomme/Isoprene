{
 "cells": [
  {
   "cell_type": "code",
   "execution_count": 1,
   "id": "4ddf7dd1-52fe-4d3b-bf55-c4b7dfc37e61",
   "metadata": {},
   "outputs": [
    {
     "name": "stdout",
     "output_type": "stream",
     "text": [
      "Julia Version 1.6.3\n",
      "Commit ae8452a9e0 (2021-09-23 17:34 UTC)\n",
      "Platform Info:\n",
      "  OS: Linux (x86_64-pc-linux-gnu)\n",
      "  CPU: Intel(R) Xeon(R) CPU E5-2630 v3 @ 2.40GHz\n",
      "  WORD_SIZE: 64\n",
      "  LIBM: libopenlibm\n",
      "  LLVM: libLLVM-11.0.1 (ORCJIT, haswell)\n",
      "Environment:\n",
      "  __LMOD_REF_COUNT_JULIA_DEPOT_PATH = /home/biotoml/.julia:1;/sw/comp/julia/1.6.3/rackham/lib/glob_pkg:1\n",
      "  JULIA_DEPOT_PATH = /home/biotoml/.julia:/sw/comp/julia/1.6.3/rackham/lib/glob_pkg\n",
      "  __LMOD_REF_COUNT_JULIA_LOAD_PATH = @:1;@v#.#:1;@stdlib:1;/sw/comp/julia/1.6.3/rackham/lib/glob_pkg/environments/v1.6:1\n",
      "  JULIA_PROJECT = /crex/proj/snic2022-23-321/private/thomas/Isoprene/ext_src/01_julia_land_v01/Land/Project.toml\n",
      "  JULIA_ROOT = /sw/comp/julia/1.6.3/rackham\n",
      "  JULIA_LOAD_PATH = @:@v#.#:@stdlib:/sw/comp/julia/1.6.3/rackham/lib/glob_pkg/environments/v1.6\n",
      "nothing\n"
     ]
    }
   ],
   "source": [
    "# print version / should be 1.6.3\n",
    "println(versioninfo())\n",
    "\n",
    "# load centralized paths dictionary\n",
    "using YAML\n",
    "PATHS_FILE = \"../../../PATHS.yml\"\n",
    "PATHS = YAML.load_file(PATHS_FILE);\n",
    "\n",
    "\"\"\"\n",
    "    load_path(keys::Vector{String}):String\n",
    "\n",
    "Return the absolute path for a requested item within the nested PATHS dictionary.\n",
    "\"\"\"\n",
    "function loadpath(keys::Vector{String}):String\n",
    "    # recusively assemble paths from keys\n",
    "    requested_path = foldl((x, y) -> getindex(x, y), keys; init=PATHS)\n",
    "    # rephrase abs path from relative paths to be platform independent.\n",
    "    realpath(joinpath(splitdir(realpath(PATHS_FILE))[1], requested_path))\n",
    "end;"
   ]
  },
  {
   "cell_type": "code",
   "execution_count": 2,
   "id": "d0e8341b-20ca-47fc-94d2-f3dadc3cf00a",
   "metadata": {},
   "outputs": [
    {
     "name": "stderr",
     "output_type": "stream",
     "text": [
      "\u001b[32m\u001b[1m  Activating\u001b[22m\u001b[39m environment at `/crex/proj/snic2022-23-321/private/thomas/Isoprene/ext_src/01_julia_land_v01/Land/Project.toml`\n"
     ]
    }
   ],
   "source": [
    "# we load the project path as it is used by CliMA Land v01 papers\n",
    "using Pkg\n",
    "PROJECT_PATH = loadpath([\"EXTERNAL\", \"01_CLIMA_LAND_V01\", \"ROOT\"])\n",
    "Pkg.activate(PROJECT_PATH)"
   ]
  },
  {
   "cell_type": "code",
   "execution_count": 2,
   "id": "e7d76f99-face-4b8c-8c8b-b1c533cc6ddb",
   "metadata": {
    "scrolled": true,
    "tags": []
   },
   "outputs": [],
   "source": [
    "using LazyArtifacts\n",
    "\n",
    "using CanopyLayers: BLUE, EVI, FourBandsFittingHybrid, NDVI, NIR, NIRv, NIRvES, RED, SIF_740, SIF_WL, SIF_fluxes!, canopy_fluxes!, canopy_geometry!, canopy_matrices!, fit_soil_mat!, short_wave!, soil_albedos\n",
    "using DataFrames: DataFrame\n",
    "using GriddingMachine: lat_ind, lon_ind\n",
    "using Photosynthesis: AbstractPhotoModelParaSet, AirLayer, leaf_ETR!\n",
    "using PkgUtility: numerical∫, read_csv, save_csv!\n",
    "using PlantHydraulics: soil_p_25_swc, temperature_effects!\n",
    "using SoilPlantAirContinuum: SPACMono, initialize_spac_canopy!, update_Cab!, update_LAI!, zenith_angle\n",
    "using Statistics: mean\n",
    "using StomataModels: BetaGLinearPsoil, CanopyLayer, ESMMedlyn, EmpiricalStomatalModel, GswDrive, gas_exchange!, gsw_control!, stomatal_conductance, update_leaf_TP!, β_factor\n",
    "using UnPack: @unpack\n",
    "using WaterPhysics: saturation_vapor_pressure"
   ]
  },
  {
   "cell_type": "code",
   "execution_count": 5,
   "id": "e552d586-629e-4565-a1bf-9c58cb567295",
   "metadata": {},
   "outputs": [],
   "source": [
    "using PlantHydraulics: create_grass"
   ]
  },
  {
   "cell_type": "code",
   "execution_count": 6,
   "id": "4c118346-1cc0-4764-b131-b8bc5d77f2ca",
   "metadata": {},
   "outputs": [
    {
     "data": {
      "text/html": [
       "# 1 method for generic function <b>create_grass</b>:<ul><li> create_grass(z_root::<b>FT</b>, z_canopy::<b>FT</b>, soil_bounds::<b>Vector{FT}</b>, air_bounds::<b>Vector{FT}</b>)<i> where FT<:AbstractFloat</i> in PlantHydraulics at <a href=\"file:///home/biotoml/.julia/packages/PlantHydraulics/Aztny/src/initialize/plant.jl\" target=\"_blank\">/home/biotoml/.julia/packages/PlantHydraulics/Aztny/src/initialize/plant.jl:20</a></li> </ul>"
      ],
      "text/plain": [
       "# 1 method for generic function \"create_grass\":\n",
       "[1] create_grass(z_root::FT, z_canopy::FT, soil_bounds::Vector{FT}, air_bounds::Vector{FT}) where FT<:AbstractFloat in PlantHydraulics at /home/biotoml/.julia/packages/PlantHydraulics/Aztny/src/initialize/plant.jl:20"
      ]
     },
     "execution_count": 6,
     "metadata": {},
     "output_type": "execute_result"
    }
   ],
   "source": [
    "methods(create_grass)"
   ]
  },
  {
   "cell_type": "code",
   "execution_count": null,
   "id": "26121550-2f8e-4f76-9717-96e57058d34c",
   "metadata": {},
   "outputs": [],
   "source": [
    "# function to create a SPAC node\n",
    "function create_spac(\n",
    "        lat::FT,  # core\n",
    "        lon::FT,  # core\n",
    "        # elevation::FT,  # can be computed from lat+lon\n",
    "        \n",
    "        \n",
    "        _soil_bnds::AbstractVector{FT} = FT[0, -0.1, -0.35, -1, -3],  # 4 layers of soil with given boundaries (in m) as for JULES - can use ERA5 data\n",
    "        _z_c::FT = 5.0,  # canopy height should be used from langHighresolutionCanopyHeight2022 or GriddingMachine\n",
    "        _z_r::FT = -2,  # we set a default 2 m max root depth. Closest reference is fanHydrologicRegulationPlant2017 and https://wci.earth2observe.eu/thredds/catalog/usc/root-depth/catalog.html\n",
    "        n_airlayers::Int8 = 20,  # not more than 127!\n",
    "        \n",
    "        # following components can be taken from GriddingMachine / ERA5\n",
    "        wind_z0::FT,\n",
    "        wind_d::FT,\n",
    "        wind_zs::Vector{FT},\n",
    "        winds::Vector{FT},\n",
    "        mswc::Vector{FT},\n",
    "        swc::Vector{FT},\n",
    "        p_soil::Vector{FT},\n",
    "        h_soil::FT\n",
    "        lai::FT,  # leaf area index from \n",
    "        \n",
    "        # photomodel C3 or C4\n",
    "        #  can be C3VJPModel, C3CytochromeModel, C4VJPModel\n",
    "        plant_hs::AbstractPlantOrganism{FT} = create_grass(...)  # vegetation_type - GrassLikeOrganism, TreeLikeOrganism, PalmLikeOrganism (init via create_*)\n",
    "        \n",
    "        # Stomatal models - we can try different models - optimization approaches were great in trials\n",
    "        stomata_model::AbstractStomatalModel{FT} = ESMMedlyn{FT}(),\n",
    "        \n",
    "        \n",
    "        ) where {FT<:AbstractFloat}\n",
    "    _Δz::FT    = _z_c / n_airlayers;\n",
    "    _air_bnds  = collect(FT, 0:_Δz:_z_c+2*_Δz);\n",
    "    _elev::FT  = 100;\n",
    "\n",
    "\n",
    "    # create a SPACMono struct\n",
    "    _node = SPACMono{FT}(soil_bounds = _soil_bnds, air_bounds = _air_bnds, z_canopy = _z_c, z_root = _z_r, latitude = lat, longitude = lon, elevation = _elev, stomata_model = ESMMedlyn{FT}());\n",
    "\n",
    "    # initialize the canopy RT model\n",
    "    initialize_spac_canopy!(_node);\n",
    "\n",
    "    return _node\n",
    "\n",
    "end;\n",
    "\n",
    "\n"
   ]
  },
  {
   "cell_type": "code",
   "execution_count": 6,
   "id": "1023f83b-1c96-4e4c-97f8-e1a6e3e50ba4",
   "metadata": {},
   "outputs": [
    {
     "data": {
      "text/plain": [
       "32767"
      ]
     },
     "execution_count": 6,
     "metadata": {},
     "output_type": "execute_result"
    }
   ],
   "source": [
    "typemax(Int16)"
   ]
  },
  {
   "cell_type": "code",
   "execution_count": null,
   "id": "ee5fc341-d388-42b1-8688-2919dc19c9ac",
   "metadata": {},
   "outputs": [],
   "source": []
  }
 ],
 "metadata": {
  "kernelspec": {
   "display_name": "Julia 1.6.3 Clima Land",
   "language": "julia",
   "name": "julia-1.6"
  },
  "language_info": {
   "file_extension": ".jl",
   "mimetype": "application/julia",
   "name": "julia",
   "version": "1.6.3"
  }
 },
 "nbformat": 4,
 "nbformat_minor": 5
}
