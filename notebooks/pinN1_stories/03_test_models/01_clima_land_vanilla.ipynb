{
 "cells": [
  {
   "cell_type": "code",
   "execution_count": 94,
   "id": "005b6a2c-3f94-4880-a94a-5bd643266ed4",
   "metadata": {},
   "outputs": [
    {
     "name": "stdout",
     "output_type": "stream",
     "text": [
      "Julia Version 1.6.6\n",
      "Commit b8708f954a (2022-03-28 07:17 UTC)\n",
      "Platform Info:\n",
      "  OS: macOS (x86_64-apple-darwin18.7.0)\n",
      "  CPU: Intel(R) Core(TM) i5-4260U CPU @ 1.40GHz\n",
      "  WORD_SIZE: 64\n",
      "  LIBM: libopenlibm\n",
      "  LLVM: libLLVM-11.0.1 (ORCJIT, haswell)\n",
      "nothing\n"
     ]
    }
   ],
   "source": [
    "# print version / should be 1.6.x\n",
    "println(versioninfo())\n",
    "\n",
    "# load centralized paths dictionary\n",
    "using YAML\n",
    "PATHS_FILE = \"../../../PATHS.YML\"\n",
    "PATHS = YAML.load_file(PATHS_FILE);\n",
    "\n",
    "\"\"\"\n",
    "    load_path(keys::Vector{String}):String\n",
    "\n",
    "Return the absolute path for a requested item within the nested PATHS dictionary.\n",
    "\"\"\"\n",
    "function load_path(keys::Vector{String}):String\n",
    "    # recusively assemble paths from keys\n",
    "    requested_path = foldl((x, y) -> getindex(x, y), keys; init=PATHS)\n",
    "    # rephrase abs path from relative paths to be platform independent.\n",
    "    realpath(joinpath(splitdir(realpath(PATHS_FILE))[1], requested_path))\n",
    "end;"
   ]
  },
  {
   "cell_type": "code",
   "execution_count": 97,
   "id": "f8bb29a9-7b97-490d-96b4-82563760c638",
   "metadata": {},
   "outputs": [
    {
     "name": "stderr",
     "output_type": "stream",
     "text": [
      "\u001b[32m\u001b[1m  Activating\u001b[22m\u001b[39m environment at `~/Desktop/island_in_the_sun/python/2022_04_lsm/ext_src/01_julia_land_v01/Land/Project.toml`\n"
     ]
    }
   ],
   "source": [
    "# we load the project path as it is used by CliMA Land v01 papers\n",
    "using Pkg\n",
    "PROJECT_PATH = load_path([\"EXTERNAL\", \"01_CLIMA_LAND_V01\", \"ROOT\"])\n",
    "Pkg.activate(PROJECT_PATH)\n"
   ]
  },
  {
   "cell_type": "markdown",
   "id": "4b7e8bf3-b374-4101-92fa-b2b0756f8665",
   "metadata": {},
   "source": [
    "# First exploration of CliMA Land v0.1"
   ]
  },
  {
   "cell_type": "code",
   "execution_count": null,
   "id": "73ee1fd8-8633-4069-a632-dd2d3c56253d",
   "metadata": {},
   "outputs": [],
   "source": []
  }
 ],
 "metadata": {
  "kernelspec": {
   "display_name": "Julia 1.6.0-rc1",
   "language": "julia",
   "name": "julia-1.6"
  },
  "language_info": {
   "file_extension": ".jl",
   "mimetype": "application/julia",
   "name": "julia",
   "version": "1.6.6"
  }
 },
 "nbformat": 4,
 "nbformat_minor": 5
}
