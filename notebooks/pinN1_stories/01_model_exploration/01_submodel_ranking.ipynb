{
 "cells": [
  {
   "cell_type": "code",
   "execution_count": 2,
   "id": "2e63e76c",
   "metadata": {},
   "outputs": [
    {
     "name": "stdout",
     "output_type": "stream",
     "text": [
      "3.9.5 (default, May 18 2021, 12:31:01) \n",
      "[Clang 10.0.0 ]\n",
      "Pretty printing has been turned OFF\n"
     ]
    }
   ],
   "source": [
    "# Check if python is 3.9.5\n",
    "import arrow\n",
    "import numpy as np\n",
    "import os\n",
    "import sys\n",
    "\n",
    "from __init__ import PCAT\n",
    "\n",
    "print(sys.version)\n",
    "%load_ext autoreload\n",
    "%autoreload 2\n",
    "%pprint"
   ]
  },
  {
   "cell_type": "markdown",
   "id": "203d7029",
   "metadata": {},
   "source": [
    "# Classifying the diversity of Land Surface (Sub)Models"
   ]
  },
  {
   "cell_type": "markdown",
   "id": "b812821c",
   "metadata": {},
   "source": [
    "Here, we try to explore and rank LSM for the help on deciding, which model to take. The criteria for it are listed in the notebook [02_submodel_criteria](./02_submodel_criteria.ipynb)."
   ]
  },
  {
   "cell_type": "markdown",
   "id": "e4ded699",
   "metadata": {},
   "source": [
    "## Structure"
   ]
  },
  {
   "cell_type": "markdown",
   "id": "c5fadfa0",
   "metadata": {},
   "source": [
    "For each model we should have a (very) short paragraph that describes the submodel. In addition rankings for all 7 criteria, as well as some reasoning for it should be provided. For each submodel we can then define a python dictionary and cncatenate all of them finally to save it as `csv` or `yaml` file."
   ]
  },
  {
   "cell_type": "code",
   "execution_count": 3,
   "id": "ebfdf33a",
   "metadata": {},
   "outputs": [],
   "source": [
    "all_models_ranked = []"
   ]
  },
  {
   "cell_type": "raw",
   "id": "8c47a6b5-e2ca-436e-9ccd-1b97a4bb5caf",
   "metadata": {},
   "source": [
    "example_model = {}\n",
    "example_model[\"key\"] = \"XX.XX\"\n",
    "example_model[\"model\"] = \"ex_mod\"\n",
    "example_model[\"submodel\"] = \"example\"\n",
    "example_model[\"date_summarized\"] = arrow.now().format(fmt= 'YYYY-MM-DD HH:mm')\n",
    "example_model[\"link\"] = \"reasoning\"\n",
    "example_model[\"useful_references\"] = \"link\"\n",
    "\n",
    "example_model[\"c1\"] = (1, \"reasoning\")\n",
    "example_model[\"c2\"] = (2, \"reasoning\")\n",
    "example_model[\"c3\"] = (3, \"reasoning\")\n",
    "example_model[\"c4\"] = (3, \"reasoning\")\n",
    "example_model[\"c5\"] = (2, \"reasoning\")\n",
    "example_model[\"c6\"] = (1, \"reasoning\")\n",
    "example_model[\"c7\"] = (1, \"reasoning\")\n",
    "example_model[\"c8\"] = (1, \"reasoning\")\n",
    "\n",
    "\n",
    "all_models_ranked.append(example_model)"
   ]
  },
  {
   "cell_type": "markdown",
   "id": "923a2de0",
   "metadata": {},
   "source": [
    "---\n",
    "---\n",
    "## Models"
   ]
  },
  {
   "cell_type": "markdown",
   "id": "a216780b",
   "metadata": {},
   "source": [
    "Let $c_n \\in (c_k)_{k \\in \\mathbb{N}}$ always be predefined constants and us start."
   ]
  },
  {
   "cell_type": "markdown",
   "id": "423e85ae",
   "metadata": {
    "tags": []
   },
   "source": [
    "---\n",
    "### CLM Submodels"
   ]
  },
  {
   "cell_type": "markdown",
   "id": "e05f45bb",
   "metadata": {},
   "source": [
    "We start with looking at the submodels of the CLM. Its [Technical Note](https://escomp.github.io/ctsm-docs/versions/master/html/tech_note/index.html) lists 30 submodules/submodels. These should be analyzed. To avoid a bias of ranking the models in a given order, we fetch them randomly:"
   ]
  },
  {
   "cell_type": "raw",
   "id": "3599d3c0",
   "metadata": {},
   "source": [
    "# the indices go from 2 to 31\n",
    "indices = list(range(2, 31))\n",
    "\n",
    "# we shuffle randomly\n",
    "np.random.shuffle(indices)\n",
    "print(indices)"
   ]
  },
  {
   "cell_type": "raw",
   "id": "1a6067af",
   "metadata": {},
   "source": [
    "[22, 5, 17, 21, 25, 24, 9, 6, 15, 30, 10, 28, 12, 18, 19, 8, 27, 11, 3, 29, 16, 2, 23, 13, 20, 7, 26, 4, 14]"
   ]
  },
  {
   "cell_type": "markdown",
   "id": "944baee2",
   "metadata": {},
   "source": [
    "<hr style=\"border-style: dashed;\">"
   ]
  },
  {
   "cell_type": "markdown",
   "id": "e876157f",
   "metadata": {
    "jp-MarkdownHeadingCollapsed": true,
    "tags": []
   },
   "source": [
    "#### 22. External Nitrogen Cycle"
   ]
  },
  {
   "cell_type": "markdown",
   "id": "7a7019bf",
   "metadata": {},
   "source": [
    "The external nitrogen cycle can be thought of as processes around nitrogen that happen oustide of organisms, especially plants. They are important to describe long term ecosystem dynamics of nitrogen stocks."
   ]
  },
  {
   "cell_type": "markdown",
   "id": "152de9d5",
   "metadata": {},
   "source": [
    "The model parameters are:\n"
   ]
  },
  {
   "cell_type": "markdown",
   "id": "09c7c84c",
   "metadata": {},
   "source": [
    "<div style=\"width:100px\">parameter</div> | <div style=\"width:100px\">unit</div>  | <div style=\"width:300px\">equation (relation)</div> | <div style=\"width:500px\">description</div>  |\n",
    "|:---:|:---:|:---:|:---|\n",
    "$NF_{ndep\\_sminn}$ | $g\\ m^{-2}\\ s^{-1}$ | - | total deposition of mineral nitrogen to land surface (NO$_{x}$, NH$_{y}$)\n",
    "$CF_{ann\\_ET}$ | $mm \\ yr^{-1}$ | - | evapotranspiration rate\n",
    "$NF_{nfix\\_sminn}$ | $g\\ m^{-2}\\ s^{-1}$ | $c_1 (c_2 + CF_{ann\\_ET}) / (c_3)$ (linear) | biological asymbiotic nitrogen fixation rate (BNF)\n",
    "$k_{nitr}$ | $day^{-1}$ | - | maximum nitrification rate (set to 0.1)\n",
    "$f_{nitr,p}$ | $day^{-1}$ | $[NH_{4}]\\ k_{nitr}\\ f(T)\\ f(H_{2}0)\\ f(pH)$ (linear?!) | potential nitrification rate\n",
    "$frac_{anox}$ | - | $\\exp{\\text(multiple\\ params)}$ (exponential) | anoxic fraction\n",
    "$f_{denitr,p}$ | $day^{-1}$ | $min(f_{denitr,p,carbon\\_lim}, f_{denitr,p,no3\\_lim})\\ frac_{anox}$ (linear?!) | potential denitrification rate (only anoxic soils)\n",
    "$k_{1}$ | - | $max(c_1, c_2-c_3\\ d_g)$ (linear) | function of gas diffusion\n",
    "$f_{WFPS}$ | - | $max(c_1, c_2-c_3\\ WFPS)$ (linear) | function of water filled pore space\n",
    "$P_{NO_3:CO_2}$ | - | - |  CO$_2$ production/NO$_{3}$ concentration ratio\n",
    "$P_{N_2:N_2O}$ | - | $max(0.16\\ k_1, k_1\\ \\exp(-0.8\\ P_{NO_3:CO_2}))\\ f_{WPFS}$ (exponential) | nitrification/denitrification ratio\n",
    "$WS_{tot\\_soil}$ | $kg\\ m^{2}$ | - | total mass of soil water over column\n",
    "$NS_{sminn}$ | $g\\ m^{-2} s^{-1}$ | - | soulable fraction of anorganic nitrogen in water\n",
    "$DIN$ | $g\\ kg^{-1}$ | $\\frac{NS_{sminn}\\ s\\ f}{WS_{tot\\_soil}} $ (linear?!) | dissolved anorganic nitrogen in water solution \n",
    "$Q_{dis}$ | $kg\\ m^{-2}\\ s^{-1}$ | - | hydrologic discharge from soil column to streamflow\n",
    "$NF_{leached}$ | $g\\ m^{-2} s^{-1}$ | $min(DIN\\ Q_{dis}, \\frac{NS_{sminn}\\ s\\ f}{\\Delta t} )$ (linear?!) | leaching loss of nitrogen"
   ]
  },
  {
   "cell_type": "markdown",
   "id": "a7745941",
   "metadata": {},
   "source": [
    "Processes:\n",
    "- Deposition of atmospheric nitrogen\n",
    "- Biological nitrogen fixation\n",
    "- Nitrification and denitrification\n",
    "- Leaching of nitrogen"
   ]
  },
  {
   "cell_type": "markdown",
   "id": "3a590407",
   "metadata": {},
   "source": [
    "Bottlenecks:\n",
    "- Steady state approximations (e.g. constants in BNF, maximum denitrification rate, nitrification flux)\n",
    "- Binning of seperate processes (e.g. deposition of different atmospheric nitrogen compounds to one variable)\n",
    "- Simplified fluxes (e.g. atmospheric N deposition and BNF contribute solely to NH$_4$ pool)\n",
    "- Proxying processes by others (e.g. BNF by evapotranspiration)"
   ]
  },
  {
   "cell_type": "markdown",
   "id": "aa222b55",
   "metadata": {},
   "source": [
    "Connected submodels:\n",
    "- 2.18. Fixation and Uptake of Nitrogen\n",
    "- 2.19. Carbon and Nitrogen allocation\n",
    "- 2.24 Fire\n",
    "..."
   ]
  },
  {
   "cell_type": "markdown",
   "id": "a52bc9d1",
   "metadata": {},
   "source": [
    "Concluding comment:\n",
    "*We should keep in mind that N and C cicle are highly dependent of each other.*"
   ]
  },
  {
   "cell_type": "code",
   "execution_count": 6,
   "id": "dc22788d",
   "metadata": {},
   "outputs": [],
   "source": [
    "model = {}\n",
    "model[\"key\"] = \"2.22\"\n",
    "model[\"model\"] = \"clm\"\n",
    "model[\"submodel\"] = \"n_cycle\"\n",
    "# model[\"date_summarized\"] = arrow.now().format(fmt= 'YYYY-MM-DD HH:mm')\n",
    "model[\"date_summarized\"] = '2022-04-25 17:01'\n",
    "model[\"link\"] = \"https://escomp.github.io/ctsm-docs/versions/master/html/tech_note/External_Nitrogen_Cycle/CLM50_Tech_Note_External_Nitrogen_Cycle.html#\"\n",
    "model[\"useful_references\"] = [\"kovenEffectVerticallyResolved2013\", \"thomasNitrogenLimitationLand2015\"]\n",
    "\n",
    "model[\"c1\"] = (3, \"Directly linked to biogeochemical flows\")\n",
    "model[\"c2\"] = (2, \"Nitrogen availability is an important factor for forests\")\n",
    "model[\"c3\"] = (1, \"Not directly linked to climate change issues\")\n",
    "model[\"c4\"] = (2, \"Many equations but still not too complex\")\n",
    "model[\"c5\"] = (3, \"Involves a lot of parameters, several linked exponentially\")\n",
    "model[\"c6\"] = (3, \"Well referenced and parameters nicely defined\")\n",
    "model[\"c7\"] = (2, \"Depends on several other nitrogen and water submodels, but builds a good independent core.\")\n",
    "model[\"c8\"] = (1, \"No direct connection to biotic evolution\")\n",
    "\n",
    "\n",
    "all_models_ranked.append(model)"
   ]
  },
  {
   "cell_type": "markdown",
   "id": "ad633b63",
   "metadata": {},
   "source": [
    "<hr style=\"border-style: dashed;\">"
   ]
  },
  {
   "cell_type": "markdown",
   "id": "b2fffa93",
   "metadata": {
    "jp-MarkdownHeadingCollapsed": true,
    "tags": []
   },
   "source": [
    "#### 5. Momentum, Sensible Heat, and Latent Heat Fluxes"
   ]
  },
  {
   "cell_type": "markdown",
   "id": "e41c3619",
   "metadata": {},
   "source": [
    "This submodel deals with heat and vapor fluxes between atmosphere layers, vegetation and ground. It is highly complex."
   ]
  },
  {
   "cell_type": "markdown",
   "id": "f7ba1955-a8f7-48e3-963a-fcf2b67d98d3",
   "metadata": {},
   "source": [
    "Vocabulary:\n",
    "- Zonal (latitudinal/east-west direction) and meridional (longitudinal/north-south direction) flows. \n",
    "- Momentum fluxes (a.k.a. winds)\n",
    "- Sensible heat (a.k.a. temperature)\n",
    "- Latent heat (heat energy that is exchanged to make phase trasitions, e.g. vaporization)"
   ]
  },
  {
   "cell_type": "markdown",
   "id": "e56c1938",
   "metadata": {},
   "source": [
    "The model parameters are:\n"
   ]
  },
  {
   "cell_type": "markdown",
   "id": "e07855ed",
   "metadata": {},
   "source": [
    "...too many\n",
    "\n",
    "<div style=\"width:100px\">parameter</div> | <div style=\"width:100px\">unit</div>  | <div style=\"width:300px\">equation (relation)</div> | <div style=\"width:500px\">description</div>  |\n",
    "|:---:|:---:|:---:|:---|\n",
    "- | - | - | -"
   ]
  },
  {
   "cell_type": "markdown",
   "id": "ed2b0bbf",
   "metadata": {},
   "source": [
    "Processes:\n",
    "- Atmospheric fluxes of momentum, vapor and sensible heat\n",
    "- Fluxes of sensible and latent heat to and from ground\n",
    "- Fluxes of sensible and latent heat to and from vegetated surfaces"
   ]
  },
  {
   "cell_type": "markdown",
   "id": "e8fa518e",
   "metadata": {},
   "source": [
    "Bottlenecks:\n",
    "- Steady state approximations (e.g. dense canopy turbation)\n",
    "- Discretization (e.g. processes by stabilities)\n",
    "- Human classification (e.g. aerodynamic parameters for plant functional types, clear distinction between vegetated and non-vegetated surfaces)"
   ]
  },
  {
   "cell_type": "markdown",
   "id": "02600ce2",
   "metadata": {
    "tags": []
   },
   "source": [
    "Connected submodels:\n",
    "- 2.6. Soil and snow temperatures\n",
    "- 2.7. Hydrology\n",
    "- 2.8. Snow hydrology\n",
    "- 2.30. Dust model"
   ]
  },
  {
   "cell_type": "markdown",
   "id": "15e1d827",
   "metadata": {},
   "source": [
    "Concluding comment: \n",
    "*Could be seperated into subsequent models; e.g. biotic and abiotic thermal fluxes.*"
   ]
  },
  {
   "cell_type": "code",
   "execution_count": 11,
   "id": "0465cfda",
   "metadata": {
    "tags": []
   },
   "outputs": [],
   "source": [
    "model = {}\n",
    "model[\"key\"] = \"2.5\"\n",
    "model[\"model\"] = \"clm\"\n",
    "model[\"submodel\"] = \"momentum_heat_fluxes\"\n",
    "# model[\"date_summarized\"] = arrow.now().format(fmt= 'YYYY-MM-DD HH:mm')\n",
    "model[\"date_summarized\"] = '2022-04-26 16:59'\n",
    "model[\"link\"] = \"https://escomp.github.io/ctsm-docs/versions/master/html/tech_note/Fluxes/CLM50_Tech_Note_Fluxes.html#\"\n",
    "model[\"useful_references\"] = []\n",
    "\n",
    "model[\"c1\"] = (3, \"Thermic fluxes are key measures for predicting climate change.\")\n",
    "model[\"c2\"] = (2, \"Temperature changes define vital ranges of forests\")\n",
    "model[\"c3\"] = (3, \"Thermic fluxes are key measures for predicting climate change.\")\n",
    "model[\"c4\"] = (3, \"Very complex model\")\n",
    "model[\"c5\"] = (3, \"Involves a huge amount of parameters, several linked exponentially\")\n",
    "model[\"c6\"] = (1, \"Well referenced and parameters nicely defined, but the model seems overwhelming\")\n",
    "model[\"c7\"] = (2, \"Connected with many other temperature related submodels, but deals with distinct questions\")\n",
    "model[\"c8\"] = (2, \"Climate changes shift bitoic distributions\")\n",
    "\n",
    "all_models_ranked.append(model)"
   ]
  },
  {
   "cell_type": "markdown",
   "id": "ac5b270b",
   "metadata": {},
   "source": [
    "<hr style=\"border-style: dashed;\">"
   ]
  },
  {
   "cell_type": "markdown",
   "id": "2af2b0f2",
   "metadata": {
    "jp-MarkdownHeadingCollapsed": true,
    "tags": []
   },
   "source": [
    "#### 17. Plant respiration"
   ]
  },
  {
   "cell_type": "markdown",
   "id": "ce47be34",
   "metadata": {},
   "source": [
    "Here authors deal with respiration of plants for maintainance and growth."
   ]
  },
  {
   "cell_type": "markdown",
   "id": "b1a219c4-fe0a-44af-bffc-82f2379ebfef",
   "metadata": {},
   "source": [
    "Vocabulary:\n",
    "- plant functional type (PFT) as rough classification of vegetation type"
   ]
  },
  {
   "cell_type": "markdown",
   "id": "495c353a",
   "metadata": {},
   "source": [
    "The model parameters are:\n"
   ]
  },
  {
   "cell_type": "markdown",
   "id": "e1c5bb36",
   "metadata": {},
   "source": [
    "<div style=\"width:100px\">parameter</div> | <div style=\"width:100px\">unit</div>  | <div style=\"width:400px\">equation (relation)</div> | <div style=\"width:500px\">description</div>  |\n",
    "|:---:|:---:|:---:|:---|\n",
    "$NS_{narea}$ | $g\\ m^{-2}$ | - | leaf nitrogen content\n",
    "$t_{2m,10days}$ | $°C$ | - | average temperature of last 10 days\n",
    "$i_{atkin,pft}$ | $nmol\\ g^{-1}\\ s^{-1}$ | - | Atkin constant (intercept) which is PFT dependent (atkinGlobalVariabilityLeaf2015)\n",
    "$CF_{mr\\_leaf}$ | $nmol\\ g^{-1}\\ s^{-1}$ | $i_{atkin,pft} + (c_1\\ NS_{narea}) - (c_2\\ t_{2m,10days})$ (linear) | leaf respiration in light\n",
    "$CF_{mr\\_livestem}$ | $nmol\\ g^{-1}\\ s^{-1}$ | $NS_{livestem}\\ MR_{base}\\ MR_{Q10}^{(T_{2m}-20)/10}$ (linear?) | respiration of stem\n",
    "$CF_{mr\\_liveroot}$ | $nmol\\ g^{-1}\\ s^{-1}$ | $NS_{liveroot}\\ MR_{base}\\ MR_{Q10}^{(T_{2m}-20)/10}$ (linear?) | respiration of root\n",
    "$CF_{mr\\_froot}$ | $nmol\\ g^{-1}\\ s^{-1}$ | $\\sum_{j=1}^{n_{levsoil}} NS_{froot}\\ rootfr_j\\ MR_{base}\\ MR_{Q10}^{(T_{s_j}-20)/10}$ (linear?) | respiration of fine roots of different soil levels\n",
    "$CF_{mr}$ | $nmol\\ g^{-1}\\ s^{-1}$ | $CF_{mr\\_leaf} + CF_{mr\\_froot} + CF_{mr\\_livestem} + CF_{mr\\_liveroot}$ (linear?) | respiration for maintainance\n",
    "$CF_{growth}$ | $nmol\\ g^{-1}\\ s^{-1}$ | $0.11\\ CF_{alloc?}$ (linear) | respiration for growth"
   ]
  },
  {
   "cell_type": "markdown",
   "id": "aa8f357a",
   "metadata": {},
   "source": [
    "Processes:\n",
    "- Respiration for maintainance\n",
    "- Respiration for growth"
   ]
  },
  {
   "cell_type": "markdown",
   "id": "33df5fe3",
   "metadata": {},
   "source": [
    "Bottlenecks:\n",
    "- Steady state approximations (e.g. growth respiration)\n",
    "- Discretization (e.g. fine roots on discrete soil levels)\n",
    "- Problems to seperate processes (e.g. maintainance and growth respiration)"
   ]
  },
  {
   "cell_type": "markdown",
   "id": "5bc0bac3",
   "metadata": {},
   "source": [
    "Connected submodels:\n",
    "- 2.5. Momentum, sensible heat, and latent heat fluxes\n",
    "- 2.9. Stomatal resistance and photosynthesis\n",
    "- 2.16. CN pools\n",
    "- 2.18. Fixation and uptake of nitrogen\n",
    "- 2.19. Carbon and nitrogen allocation\n",
    "..."
   ]
  },
  {
   "cell_type": "markdown",
   "id": "f6add3f2",
   "metadata": {},
   "source": [
    "Concluding comment:\n",
    "*Canopy structure is not accounted for.*"
   ]
  },
  {
   "cell_type": "code",
   "execution_count": 5,
   "id": "47bafda1",
   "metadata": {},
   "outputs": [],
   "source": [
    "model = {}\n",
    "model[\"key\"] = \"2.17\"\n",
    "model[\"model\"] = \"clm\"\n",
    "model[\"submodel\"] = \"plant_respiration\"\n",
    "# model[\"date_summarized\"] = arrow.now().format(fmt= 'YYYY-MM-DD HH:mm')\n",
    "# print(model[\"date_summarized\"])\n",
    "model[\"date_summarized\"] = '2022-04-27 12:11'\n",
    "model[\"link\"] = \"https://escomp.github.io/ctsm-docs/versions/master/html/tech_note/Plant_Respiration/CLM50_Tech_Note_Plant_Respiration.html\"\n",
    "model[\"useful_references\"] = [\"atkinGlobalVariabilityLeaf2015\", \"atkinLeafRespirationTerrestrial2017\"]\n",
    "\n",
    "model[\"c1\"] = (3, \"Linked to climate change\")\n",
    "model[\"c2\"] = (3, \"Important to understand forest ecosystems\")\n",
    "model[\"c3\"] = (3, \"Respiration of plants and forests is key to understandd climate change.\")\n",
    "model[\"c4\"] = (1, \"The model (but not the connected ones) seems to be not very complex.\")\n",
    "model[\"c5\"] = (2, \"There are several PFT specific parameters defined, but moslty linearily connected.\")\n",
    "model[\"c6\"] = (3, \"Due to its small size and the good documentation it seems to be easily reimplemented.\")\n",
    "model[\"c7\"] = (1, \"Stongly connected to carbon and nitrogen pools and allocation, as well as soil mositure and heat fluxes.\")\n",
    "model[\"c8\"] = (3, \"Plant respiration is an adaptive trait.\")\n",
    "\n",
    "\n",
    "all_models_ranked.append(model)"
   ]
  },
  {
   "cell_type": "markdown",
   "id": "366a139b-3b2f-4d60-9a1c-7c58bcc5d6be",
   "metadata": {},
   "source": [
    "<hr style=\"border-style: dashed;\">"
   ]
  },
  {
   "cell_type": "markdown",
   "id": "24d6da04-47bb-4568-a6ad-0a3da24f7a83",
   "metadata": {
    "jp-MarkdownHeadingCollapsed": true,
    "tags": []
   },
   "source": [
    "#### 21. Decomposition"
   ]
  },
  {
   "cell_type": "markdown",
   "id": "0ddfca51-ab34-4e79-9909-c29ac3c6c8d5",
   "metadata": {},
   "source": [
    "This submodel focusses on the decay of organic material to more inert recalcitrant organic matter. It assumes cascades of decomposition."
   ]
  },
  {
   "cell_type": "markdown",
   "id": "dca59afd-752e-47d7-aace-3375f0b59a64",
   "metadata": {},
   "source": [
    "Vocabulary:\n",
    "- recalcitrant organic matter is resistent to decomposition"
   ]
  },
  {
   "cell_type": "markdown",
   "id": "d77ffe65-f8fc-428b-8286-ff3a41660e80",
   "metadata": {},
   "source": [
    "The model parameters are:\n"
   ]
  },
  {
   "cell_type": "markdown",
   "id": "8641fd7f-0608-4ae4-824d-a241022488b6",
   "metadata": {},
   "source": [
    "<div style=\"width:100px\">parameter</div> | <div style=\"width:100px\">unit</div>  | <div style=\"width:300px\">equation (relation)</div> | <div style=\"width:500px\">description</div>  |\n",
    "|:---:|:---:|:---:|:---|\n",
    "$R_i$ | - | - | direct carbon input by plants to soil level\n",
    "$k_i$ | - | - | decomposition rate constant of soil level\n",
    "$C_i$ | - | - | carbon content of soil level\n",
    "$T_i$ | - | - | decomposition rate constant of specific level\n",
    "$r_i$ | - | - | fraction of carbon loss to respiration of soil level\n",
    "$\\frac{\\partial C_i}{\\partial t}$ | $g\\ m^{-3}$ | $R_i + \\sum_{j \\not i}(i-r_j)\\ T_{ji}\\ k_j\\ C_j - k_i\\ C_i$ | level specific carbon balance of decomposing pools\n",
    "$r_{total}$ | - | $r_{tsoil}\\ r_{water}\\ r_{oxygen}\\ r_{depth}$ | environmental decomposition factor of temperature, moisture, anoxia and layer depth\n",
    "$CS_u$ | $g\\ m^{-2}$ | - | initial mass in upstream pool\n",
    "$CF_{pot,u}$ | $g\\ m^{-2}\\ s^{-1}$ | $CS_u\\ k_u$ (linear?)| potential carbon flux of upstream pool\n",
    "$NF_{pot\\_min,u\\to d}$ | $g\\ m^{-2}\\ s^{-1}$ | $\\frac{CF_{pot,u}(1-r\\ f_u - \\frac{CN_d}{CN_u})}{CN_d}$ | potential mineral nitrogen fluxes from upstream to downstream layer\n",
    "... | - | - | ..."
   ]
  },
  {
   "cell_type": "markdown",
   "id": "0a956bb3-1dac-4c1e-a423-18cb13779be0",
   "metadata": {},
   "source": [
    "Processes:\n",
    "- decomposition of organic matter in soil levels\n",
    "- fluxes of organic matter between soil levels\n",
    "- environmental modification of decomposition rates\n",
    "- heterotrophic respiration to atmosphere\n",
    "- nitrogen immobilization and mineralization\n",
    "- nitrogen competition between decomposition and plants"
   ]
  },
  {
   "cell_type": "markdown",
   "id": "c17a4669-96eb-4c3c-9959-591d9b1fa1d5",
   "metadata": {},
   "source": [
    "Bottlenecks:\n",
    "- Binning of seperate processes (e.g. environmental limitation to decay by depth as bin for multiple processes)\n",
    "- Discretization (e.g. discrete classes of soil organic matter and litter)\n",
    "- Steady state approximations (e.g. decomposition rate constants)"
   ]
  },
  {
   "cell_type": "markdown",
   "id": "eddc3833-3344-4320-9607-938bb07d6a18",
   "metadata": {},
   "source": [
    "Connected submodels:\n",
    "- 2.2. Surface characterization, vertical discretization, and model input requirements\n",
    "- 2.6. Soil and snow temperatures\n",
    "- 2.16. CN pools\n",
    "- 2.22. Fixation and uptake of nitrogen (FUN)\n",
    "..."
   ]
  },
  {
   "cell_type": "markdown",
   "id": "8e11614d-6706-4137-9049-e95b41c03f92",
   "metadata": {},
   "source": [
    "Concluding comment:\n",
    "*Very explicit cascade model, with many assumptions.*"
   ]
  },
  {
   "cell_type": "code",
   "execution_count": 9,
   "id": "b4f85a65-12e1-4d53-b7bc-8cb4318f9cd6",
   "metadata": {},
   "outputs": [],
   "source": [
    "model = {}\n",
    "model[\"key\"] = \"2.21\"\n",
    "model[\"model\"] = \"clm\"\n",
    "model[\"submodel\"] = \"decomposition\"\n",
    "model[\"date_summarized\"] = '2022-04-27 16:13'\n",
    "model[\"link\"] = \"https://escomp.github.io/ctsm-docs/versions/master/html/tech_note/Decomposition/CLM50_Tech_Note_Decomposition.html\"\n",
    "model[\"useful_references\"] = [\"kovenEffectVerticallyResolved2013\"]\n",
    "\n",
    "model[\"c1\"] = (3, \"Decompostition is part of biogeochemical processes, thus delas with planetary boundary.\")\n",
    "model[\"c2\"] = (2, \"Important processes in forests\")\n",
    "model[\"c3\"] = (2, \"Decomposition is climate dependent and contributes to green hose gases.\")\n",
    "model[\"c4\"] = (3, \"There is one hint about the performance of the model in 'Because of the coupling between the slowest SOM pools and productivity through N downregulation of photosynthesis, equilibration of the model for initialization purposes will take an extremely long time in the standard model.'.\")\n",
    "model[\"c5\"] = (3, \"As all layers are dependent of each other and multiple parameters are involved, I assume a strong impact of varying parameters.\")\n",
    "model[\"c6\"] = (2, \"Well documented but seems very big to reimplement, with all given consitionalities\")\n",
    "model[\"c7\"] = (2, \"Deals with subsequent processes, but depends on several other submodels\")\n",
    "model[\"c8\"] = (3, \"Decomposition as biological process is performed by microbial communities; clear evolutionary context\")\n",
    "\n",
    "\n",
    "all_models_ranked.append(model)"
   ]
  },
  {
   "cell_type": "markdown",
   "id": "6bafd791-50f4-42b5-a9e1-5670bcdfb1f5",
   "metadata": {},
   "source": [
    "<hr style=\"border-style: dashed;\">"
   ]
  },
  {
   "cell_type": "markdown",
   "id": "21fc50b8-231d-4f55-865e-59486031a72c",
   "metadata": {
    "tags": []
   },
   "source": [
    "#### 25. Methane Model"
   ]
  },
  {
   "cell_type": "markdown",
   "id": "e452122a-2a61-4ddd-9277-de7e861117a9",
   "metadata": {},
   "source": [
    "Here, the model deals with methane production and its fluxes within bio- and atmosphere."
   ]
  },
  {
   "cell_type": "markdown",
   "id": "8260050b-e8ae-4316-ab4b-6329bfa23d2c",
   "metadata": {},
   "source": [
    "The model parameters are:\n"
   ]
  },
  {
   "cell_type": "markdown",
   "id": "3e6616be-b10b-481c-b0e6-39805f507e06",
   "metadata": {},
   "source": [
    "<div style=\"width:100px\">parameter</div> | <div style=\"width:100px\">unit</div>  | <div style=\"width:300px\">equation (relation)</div> | <div style=\"width:500px\">description</div>  |\n",
    "|:---:|:---:|:---:|:---|\n",
    "$NF_{ndep\\_sminn}$ | $g\\ m^{-2}\\ s^{-1}$ | - | total deposition of mineral nitrogen to land surface (NO$_{x}$, NH$_{y}$)\n"
   ]
  },
  {
   "cell_type": "markdown",
   "id": "5ff9d3c4-ed65-464e-adc6-0d350c7f9b05",
   "metadata": {},
   "source": [
    "Processes:\n",
    "-\n"
   ]
  },
  {
   "cell_type": "markdown",
   "id": "3ba77c3b-0c15-4def-a60a-45c0c4555eb4",
   "metadata": {},
   "source": [
    "Bottlenecks:\n",
    "- "
   ]
  },
  {
   "cell_type": "markdown",
   "id": "839a9744-8601-4097-bed0-123d9e5d0683",
   "metadata": {},
   "source": [
    "Connected submodels:\n",
    "- \n"
   ]
  },
  {
   "cell_type": "markdown",
   "id": "63868b19-1249-4da7-b5a8-09ec0ecc3bc0",
   "metadata": {},
   "source": [
    "Concluding comment:\n"
   ]
  },
  {
   "cell_type": "code",
   "execution_count": 7,
   "id": "e1defe84-c212-404e-a452-86f0d27c7612",
   "metadata": {},
   "outputs": [],
   "source": [
    "model = {}\n",
    "model[\"key\"] = \"cc\"\n",
    "model[\"model\"] = \"clm\"\n",
    "model[\"submodel\"] = \"cccc\"\n",
    "model[\"date_summarized\"] = arrow.now().format(fmt= 'YYYY-MM-DD HH:mm')\n",
    "print(model[\"date_summarized\"])\n",
    "# model[\"date_summarized\"] = 'cc'\n",
    "model[\"link\"] = \"c\"\n",
    "model[\"useful_references\"] = [\"ddd\"]\n",
    "\n",
    "model[\"c1\"] = (3, \"Direct connection with biogeochemical fluxes and climate change (as green house gas)\")\n",
    "model[\"c2\"] = (2, \"scds\")\n",
    "model[\"c3\"] = (3, \"Direct connection with climate change (as green house gas)\")\n",
    "model[\"c4\"] = (2, \"sdvdssv\")\n",
    "model[\"c5\"] = (3, \"vsvsv\")\n",
    "model[\"c6\"] = (3, \"sbsbs\")\n",
    "model[\"c7\"] = (2, \"ter\")\n",
    "model[\"c8\"] = (1, \"gbe\")\n",
    "\n",
    "\n",
    "# all_models_ranked.append(model)"
   ]
  },
  {
   "cell_type": "markdown",
   "id": "692e5f62-5eb7-4372-a3c4-c654367aa302",
   "metadata": {},
   "source": [
    "<hr style=\"border-style: dashed;\">"
   ]
  },
  {
   "cell_type": "markdown",
   "id": "f7a21f5b-a699-4ee7-ab06-8f968593fef2",
   "metadata": {},
   "source": [
    "#### xxx. copy"
   ]
  },
  {
   "cell_type": "markdown",
   "id": "e6f0c486-048a-4635-b1a3-2d38c30e3ed9",
   "metadata": {},
   "source": [
    "..."
   ]
  },
  {
   "cell_type": "markdown",
   "id": "d46009f8-97d8-4452-9318-aa377d09e737",
   "metadata": {},
   "source": [
    "The model parameters are:\n"
   ]
  },
  {
   "cell_type": "markdown",
   "id": "a2a51694-4278-45d7-bb81-8433718421fa",
   "metadata": {},
   "source": [
    "<div style=\"width:100px\">parameter</div> | <div style=\"width:100px\">unit</div>  | <div style=\"width:300px\">equation (relation)</div> | <div style=\"width:500px\">description</div>  |\n",
    "|:---:|:---:|:---:|:---|\n",
    "$NF_{ndep\\_sminn}$ | $g\\ m^{-2}\\ s^{-1}$ | - | total deposition of mineral nitrogen to land surface (NO$_{x}$, NH$_{y}$)\n"
   ]
  },
  {
   "cell_type": "markdown",
   "id": "b7b5f664-f89c-40e4-9c8a-410481c25ee9",
   "metadata": {},
   "source": [
    "Processes:\n",
    "-\n"
   ]
  },
  {
   "cell_type": "markdown",
   "id": "dca4bf52-62a6-4b4f-9941-48123b5a7cf7",
   "metadata": {},
   "source": [
    "Bottlenecks:\n",
    "- "
   ]
  },
  {
   "cell_type": "markdown",
   "id": "65fd102f-6c05-4f75-b5e6-41b2b4e9f2a3",
   "metadata": {},
   "source": [
    "Connected submodels:\n",
    "- \n"
   ]
  },
  {
   "cell_type": "markdown",
   "id": "9e3e595a-ea4f-445b-996e-64624fb8617b",
   "metadata": {},
   "source": [
    "Concluding comment:\n"
   ]
  },
  {
   "cell_type": "code",
   "execution_count": 7,
   "id": "3ad37681-d63e-44c7-aa82-382bfb97c91e",
   "metadata": {},
   "outputs": [],
   "source": [
    "model = {}\n",
    "model[\"key\"] = \"cc\"\n",
    "model[\"model\"] = \"clm\"\n",
    "model[\"submodel\"] = \"cccc\"\n",
    "model[\"date_summarized\"] = arrow.now().format(fmt= 'YYYY-MM-DD HH:mm')\n",
    "print(model[\"date_summarized\"])\n",
    "# model[\"date_summarized\"] = 'cc'\n",
    "model[\"link\"] = \"c\"\n",
    "model[\"useful_references\"] = [\"ddd\"]\n",
    "\n",
    "model[\"c1\"] = (3, \"scs\")\n",
    "model[\"c2\"] = (2, \"scds\")\n",
    "model[\"c3\"] = (1, \"sc\")\n",
    "model[\"c4\"] = (2, \"sdvdssv\")\n",
    "model[\"c5\"] = (3, \"vsvsv\")\n",
    "model[\"c6\"] = (3, \"sbsbs\")\n",
    "model[\"c7\"] = (2, \"ter\")\n",
    "model[\"c8\"] = (1, \"gbe\")\n",
    "\n",
    "\n",
    "# all_models_ranked.append(model)"
   ]
  },
  {
   "cell_type": "code",
   "execution_count": null,
   "id": "6f0c0c9f",
   "metadata": {},
   "outputs": [],
   "source": []
  }
 ],
 "metadata": {
  "kernelspec": {
   "display_name": "Python 3",
   "language": "python",
   "name": "python3"
  },
  "language_info": {
   "codemirror_mode": {
    "name": "ipython",
    "version": 3
   },
   "file_extension": ".py",
   "mimetype": "text/x-python",
   "name": "python",
   "nbconvert_exporter": "python",
   "pygments_lexer": "ipython3",
   "version": "3.9.5"
  }
 },
 "nbformat": 4,
 "nbformat_minor": 5
}
