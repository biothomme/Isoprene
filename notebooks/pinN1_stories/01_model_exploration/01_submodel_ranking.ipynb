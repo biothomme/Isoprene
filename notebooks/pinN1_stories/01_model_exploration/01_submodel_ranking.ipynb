{
 "cells": [
  {
   "cell_type": "code",
   "execution_count": 7,
   "id": "39e239fd",
   "metadata": {},
   "outputs": [
    {
     "ename": "FileNotFoundError",
     "evalue": "[Errno 2] No such file or directory: '../../PATHS.yml'",
     "output_type": "error",
     "traceback": [
      "\u001b[0;31m---------------------------------------------------------------------------\u001b[0m",
      "\u001b[0;31mFileNotFoundError\u001b[0m                         Traceback (most recent call last)",
      "\u001b[0;32m<ipython-input-7-1245c22be46c>\u001b[0m in \u001b[0;36m<module>\u001b[0;34m\u001b[0m\n\u001b[1;32m      5\u001b[0m \u001b[0;32mimport\u001b[0m \u001b[0msys\u001b[0m\u001b[0;34m\u001b[0m\u001b[0;34m\u001b[0m\u001b[0m\n\u001b[1;32m      6\u001b[0m \u001b[0;34m\u001b[0m\u001b[0m\n\u001b[0;32m----> 7\u001b[0;31m \u001b[0;32mfrom\u001b[0m \u001b[0m__init__\u001b[0m \u001b[0;32mimport\u001b[0m \u001b[0mPCAT\u001b[0m\u001b[0;34m\u001b[0m\u001b[0;34m\u001b[0m\u001b[0m\n\u001b[0m\u001b[1;32m      8\u001b[0m \u001b[0;34m\u001b[0m\u001b[0m\n\u001b[1;32m      9\u001b[0m \u001b[0mprint\u001b[0m\u001b[0;34m(\u001b[0m\u001b[0msys\u001b[0m\u001b[0;34m.\u001b[0m\u001b[0mversion\u001b[0m\u001b[0;34m)\u001b[0m\u001b[0;34m\u001b[0m\u001b[0;34m\u001b[0m\u001b[0m\n",
      "\u001b[0;32m~/Desktop/island_in_the_sun/python/2022_04_lsm/notebooks/pinN1_stories/01_model_exploration/__init__.py\u001b[0m in \u001b[0;36m<module>\u001b[0;34m\u001b[0m\n\u001b[1;32m      5\u001b[0m \u001b[0;34m\u001b[0m\u001b[0m\n\u001b[1;32m      6\u001b[0m \u001b[0;31m# we import the catalog of paths\u001b[0m\u001b[0;34m\u001b[0m\u001b[0;34m\u001b[0m\u001b[0;34m\u001b[0m\u001b[0m\n\u001b[0;32m----> 7\u001b[0;31m \u001b[0mPCAT\u001b[0m \u001b[0;34m=\u001b[0m \u001b[0myaml\u001b[0m\u001b[0;34m.\u001b[0m\u001b[0mload\u001b[0m\u001b[0;34m(\u001b[0m\u001b[0mopen\u001b[0m\u001b[0;34m(\u001b[0m\u001b[0;34m\"../../PATHS.yml\"\u001b[0m\u001b[0;34m,\u001b[0m \u001b[0;34m\"r\"\u001b[0m\u001b[0;34m)\u001b[0m\u001b[0;34m,\u001b[0m \u001b[0mLoader\u001b[0m\u001b[0;34m=\u001b[0m\u001b[0myaml\u001b[0m\u001b[0;34m.\u001b[0m\u001b[0mFullLoader\u001b[0m\u001b[0;34m)\u001b[0m\u001b[0;34m\u001b[0m\u001b[0;34m\u001b[0m\u001b[0m\n\u001b[0m\u001b[1;32m      8\u001b[0m \u001b[0;34m\u001b[0m\u001b[0m\n\u001b[1;32m      9\u001b[0m \u001b[0;31m# then we add scripts directory to path variable\u001b[0m\u001b[0;34m\u001b[0m\u001b[0;34m\u001b[0m\u001b[0;34m\u001b[0m\u001b[0m\n",
      "\u001b[0;31mFileNotFoundError\u001b[0m: [Errno 2] No such file or directory: '../../PATHS.yml'"
     ]
    }
   ],
   "source": [
    "# Check if python is 3.9.5\n",
    "import arrow\n",
    "import numpy as np\n",
    "import os\n",
    "import sys\n",
    "\n",
    "from __init__ import PCAT\n",
    "\n",
    "print(sys.version)\n",
    "%load_ext autoreload\n",
    "%autoreload 2\n",
    "%pprint"
   ]
  },
  {
   "cell_type": "markdown",
   "id": "c90b7e4a",
   "metadata": {},
   "source": [
    "# Classifying the diversity of Land Surface (Sub)Models"
   ]
  },
  {
   "cell_type": "markdown",
   "id": "21201ca1",
   "metadata": {},
   "source": [
    "Here, we try to explore and rank LSM for the help on deciding, which model to take. The criteria for it are listed in the notebook [02_submodel_criteria](./02_submodel_criteria.ipynb)."
   ]
  },
  {
   "cell_type": "markdown",
   "id": "620389fb",
   "metadata": {},
   "source": [
    "## Structure"
   ]
  },
  {
   "cell_type": "markdown",
   "id": "3346eb9e",
   "metadata": {},
   "source": [
    "For each model we should have a (very) short paragraph that describes the submodel. In addition rankings for all 7 criteria, as well as some reasoning for it should be provided. For each submodel we can then define a python dictionary and cncatenate all of them finally to save it as `csv` or `yaml` file."
   ]
  },
  {
   "cell_type": "code",
   "execution_count": 9,
   "id": "1b537ab0",
   "metadata": {},
   "outputs": [],
   "source": [
    "all_models_ranked = []"
   ]
  },
  {
   "cell_type": "code",
   "execution_count": 12,
   "id": "40b9157b",
   "metadata": {},
   "outputs": [],
   "source": [
    "example_model = {}\n",
    "example_model[\"name\"] = \"example\"\n",
    "example_model[\"date_summarized\"] = arrow.now().format(fmt= 'YYYY-MM-DD HH:mm')\n",
    "example_model[\"link\"] = \"reasoning\"\n",
    "example_model[\"references\"] = \"link\"\n",
    "\n",
    "example_model[\"c1\"] = (1, \"reasoning\")\n",
    "example_model[\"c2\"] = (2, \"reasoning\")\n",
    "example_model[\"c3\"] = (3, \"reasoning\")\n",
    "example_model[\"c4\"] = (3, \"reasoning\")\n",
    "example_model[\"c5\"] = (2, \"reasoning\")\n",
    "example_model[\"c6\"] = (1, \"reasoning\")\n",
    "example_model[\"c7\"] = (1, \"reasoning\")\n",
    "example_model[\"c8\"] = (1, \"reasoning\")\n",
    "\n",
    "\n",
    "all_models_ranked.append(example_model)"
   ]
  },
  {
   "cell_type": "markdown",
   "id": "d9952f62",
   "metadata": {},
   "source": [
    "---\n",
    "---\n",
    "## Models"
   ]
  },
  {
   "cell_type": "markdown",
   "id": "a263a1d2",
   "metadata": {},
   "source": [
    "Let $c_n \\in (c_k)_{k \\in \\mathbb{N}}$ always be predefined constants and us start."
   ]
  },
  {
   "cell_type": "markdown",
   "id": "b0a079e9",
   "metadata": {},
   "source": [
    "---\n",
    "### CLM Submodels"
   ]
  },
  {
   "cell_type": "markdown",
   "id": "566b4624",
   "metadata": {},
   "source": [
    "We start with looking at the submodels of the CLM. Its [Technical Note](https://escomp.github.io/ctsm-docs/versions/master/html/tech_note/index.html) lists 30 submodules/submodels. These should be analyzed. To avoid a bias of ranking the models in a given order, we fetch them randomly:"
   ]
  },
  {
   "cell_type": "raw",
   "id": "4f13d8e6",
   "metadata": {},
   "source": [
    "# the indices go from 2 to 31\n",
    "indices = list(range(2, 31))\n",
    "\n",
    "# we shuffle randomly\n",
    "np.random.shuffle(indices)\n",
    "print(indices)"
   ]
  },
  {
   "cell_type": "raw",
   "id": "b6341885",
   "metadata": {},
   "source": [
    "[22, 5, 17, 21, 25, 24, 9, 6, 15, 30, 10, 28, 12, 18, 19, 8, 27, 11, 3, 29, 16, 2, 23, 13, 20, 7, 26, 4, 14]"
   ]
  },
  {
   "cell_type": "markdown",
   "id": "49210cf2",
   "metadata": {},
   "source": [
    "<hr style=\"border-style: dashed;\">"
   ]
  },
  {
   "cell_type": "markdown",
   "id": "f25d00c3",
   "metadata": {},
   "source": [
    "#### 22. External Nitrogen Cycle"
   ]
  },
  {
   "cell_type": "markdown",
   "id": "87c884aa",
   "metadata": {},
   "source": [
    "The external nitrogen cycle can be thought of as processes around nitrogen that happen oustide of organisms, especially plants. They are important to describe long term ecosystem dynamics of nitrogen stocks."
   ]
  },
  {
   "cell_type": "markdown",
   "id": "46645d5f",
   "metadata": {},
   "source": [
    "The model parameters are:\n"
   ]
  },
  {
   "cell_type": "markdown",
   "id": "6fa561cd",
   "metadata": {},
   "source": [
    "<div style=\"width:100px\">parameter</div> | <div style=\"width:100px\">unit</div>  | <div style=\"width:300px\">equation (relation)</div> | <div style=\"width:500px\">description</div>  |\n",
    "|:---:|:---:|:---:|:---|\n",
    "$NF_{ndep\\_sminn}$ | $g\\ m^{-2}\\ s^{-1}$ | - | total deposition of mineral nitrogen to land surface (NO$_{x}$, NH$_{y}$)\n",
    "$CF_{ann\\_ET}$ | $mm \\ yr^{-1}$ | - | evapotranspiration rate\n",
    "$NF_{nfix\\_sminn}$ | $g\\ m^{-2}\\ s^{-1}$ | $c_1 (c_2 + CF_{ann\\_ET}) / (c_3)$ (linear) | biological nitrogen fixation rate (BNF)\n",
    "$k_{nitr}$ | $day^{-1}$ | - | maximum nitrification rate (set to 0.1)\n",
    "$f_{nitr,p}$ | $day^{-1}$ | $[NH_{4}]\\ k_{nitr}\\ f(T)\\ f(H_{2}0)\\ f(pH)$ (linear?!) | potential nitrification rate\n",
    "$frac_{anox}$ | - | $\\exp{\\text(multiple\\ params)}$ (exponential) | anoxic fraction\n",
    "$f_{denitr,p}$ | $day^{-1}$ | $min(f_{denitr,p,carbon\\_lim}, f_{denitr,p,no3\\_lim})\\ frac_{anox}$ (linear?!) | potential denitrification rate (only anoxic soils)\n",
    "$k_{1}$ | - | $max(c_1, c_2-c_3\\ d_g)$ (linear) | function of gas diffusion\n",
    "$f_{WFPS}$ | - | $max(c_1, c_2-c_3\\ WFPS)$ (linear) | function of water filled pore space\n",
    "$P_{NO_3:CO_2}$ | - | - |  CO$_2$ production/NO$_{3}$ concentration ratio\n",
    "$P_{N_2:N_2O}$ | - | $max(0.16\\ k_1, k_1\\ \\exp(-0.8\\ P_{NO_3:CO_2}))\\ f_{WPFS}$ (exponential) | nitrification/denitrification ratio\n",
    "$WS_{tot\\_soil}$ | $kg\\ m^{2}$ | - | total mass of soil water over column\n",
    "$NS_{sminn}$ | $g\\ m^{-2} s^{-1}$ | - | soulable fraction of anorganic nitrogen in water\n",
    "$DIN$ | $g\\ kg^{-1}$ | $\\frac{NS_{sminn}\\ s\\ f}{WS_{tot\\_soil}} $ (linear?!) | dissolved anorganic nitrogen in water solution \n",
    "$Q_{dis}$ | $kg\\ m^{-2}\\ s^{-1}$ | - | hydrologic discharge from soil column to streamflow\n",
    "$NF_{leached}$ | $g\\ m^{-2} s^{-1}$ | $min(DIN\\ Q_{dis}, \\frac{NS_{sminn}\\ s\\ f}{\\Delta t} )$ (linear?!) | leaching loss of nitrogen"
   ]
  },
  {
   "cell_type": "markdown",
   "id": "a4982655",
   "metadata": {},
   "source": [
    "Connected submodels:\n",
    "- 2.18. Fixation and Uptake of Nitrogen\n",
    "- 2.19. Carbon and Nitrogen allocation\n",
    "- 2.24 Fire\n",
    "..."
   ]
  },
  {
   "cell_type": "code",
   "execution_count": 14,
   "id": "dda4c4a3",
   "metadata": {},
   "outputs": [],
   "source": [
    "model = {}\n",
    "model[\"name\"] = \"2_22_n_cycle\"\n",
    "# model[\"date_summarized\"] = arrow.now().format(fmt= 'YYYY-MM-DD HH:mm')\n",
    "model[\"date_summarized\"] = '2022-04-25 17:01'\n",
    "model[\"link\"] = \"https://escomp.github.io/ctsm-docs/versions/master/html/tech_note/External_Nitrogen_Cycle/CLM50_Tech_Note_External_Nitrogen_Cycle.html#leaching-losses-of-nitrogen\"\n",
    "model[\"references\"] = \"link\"\n",
    "\n",
    "model[\"c1\"] = (3, \"Directly linked to biogeochemical flows\")\n",
    "model[\"c2\"] = (2, \"Nitrogen availability is an important factor for forests\")\n",
    "model[\"c3\"] = (1, \"Not directly linked to climate change issues\")\n",
    "model[\"c4\"] = (2, \"Many equations but still not too complex\")\n",
    "model[\"c5\"] = (3, \"Involves a lot of parameters, several linked exponentially\")\n",
    "model[\"c6\"] = (3, \"Well referenced and parameters nicely defined\")\n",
    "model[\"c7\"] = (2, \"Depends on several other nitrogen and water submodels, but builds a good independent core.\")\n",
    "model[\"c8\"] = (1, \"No direct connection to biotic evolution\")\n",
    "\n",
    "\n",
    "all_models_ranked.append(model)"
   ]
  },
  {
   "cell_type": "code",
   "execution_count": null,
   "id": "f89d8339",
   "metadata": {},
   "outputs": [],
   "source": []
  }
 ],
 "metadata": {
  "kernelspec": {
   "display_name": "Python 3",
   "language": "python",
   "name": "python3"
  },
  "language_info": {
   "codemirror_mode": {
    "name": "ipython",
    "version": 3
   },
   "file_extension": ".py",
   "mimetype": "text/x-python",
   "name": "python",
   "nbconvert_exporter": "python",
   "pygments_lexer": "ipython3",
   "version": "3.9.5"
  }
 },
 "nbformat": 4,
 "nbformat_minor": 5
}
