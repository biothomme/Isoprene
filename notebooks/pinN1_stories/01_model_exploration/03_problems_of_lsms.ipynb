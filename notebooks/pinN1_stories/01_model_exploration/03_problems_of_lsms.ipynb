{
 "cells": [
  {
   "cell_type": "code",
   "execution_count": 2,
   "id": "fa732b7c-088e-475f-adbe-5c3a1c164278",
   "metadata": {},
   "outputs": [
    {
     "name": "stdout",
     "output_type": "stream",
     "text": [
      "3.9.5 (default, May 18 2021, 12:31:01) \n",
      "[Clang 10.0.0 ]\n",
      "Pretty printing has been turned OFF\n"
     ]
    }
   ],
   "source": [
    "# Check if python is 3.9.5\n",
    "import arrow\n",
    "import numpy as np\n",
    "import os\n",
    "import sys\n",
    "\n",
    "from __init__ import PCAT\n",
    "\n",
    "print(sys.version)\n",
    "%load_ext autoreload\n",
    "%autoreload 2\n",
    "%pprint"
   ]
  },
  {
   "cell_type": "markdown",
   "id": "929da683-0db7-4bc4-a227-5898b90f3de7",
   "metadata": {},
   "source": [
    "# Problems of contemporary models"
   ]
  },
  {
   "cell_type": "markdown",
   "id": "bb337fa4-0ab2-4a8c-b505-fa35d819ab49",
   "metadata": {},
   "source": [
    "## Measurability  <a id=\"p01\"></a>\n",
    "Many processes of the bio- and atmosphere are very hard to measure seperately. Thus, publicly available data for many parameters is sparse. An example therefore are fluxes of water and carbon in plants, as used in the [the CliMA Land model](01_submodel_ranking.ipynb#climalandstoma)."
   ]
  },
  {
   "cell_type": "markdown",
   "id": "b8b139ed-ddfb-42eb-b104-c55a8328a4be",
   "metadata": {},
   "source": [
    "## Performance <a id=\"p02\"></a>\n",
    "..."
   ]
  },
  {
   "cell_type": "markdown",
   "id": "ab9077a6-7de7-4171-88f7-1582b3ae3233",
   "metadata": {},
   "source": [
    "## Connected processes\n",
    "Small models face the difficulty of modeling not only the aimed process cascade, but also linked processes. This interfacing can be very challenging and also source of errors in the predictive power of such small models."
   ]
  },
  {
   "cell_type": "markdown",
   "id": "e815ed29-37a5-4c31-b971-2f3e9b73e69a",
   "metadata": {},
   "source": [
    "## Binning of processes\n",
    "..."
   ]
  },
  {
   "cell_type": "code",
   "execution_count": null,
   "id": "aa7d6add-0660-4a4f-86a2-cd05e4fc2704",
   "metadata": {},
   "outputs": [],
   "source": []
  }
 ],
 "metadata": {
  "kernelspec": {
   "display_name": "Python 3",
   "language": "python",
   "name": "python3"
  },
  "language_info": {
   "codemirror_mode": {
    "name": "ipython",
    "version": 3
   },
   "file_extension": ".py",
   "mimetype": "text/x-python",
   "name": "python",
   "nbconvert_exporter": "python",
   "pygments_lexer": "ipython3",
   "version": "3.9.5"
  }
 },
 "nbformat": 4,
 "nbformat_minor": 5
}
